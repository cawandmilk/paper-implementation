{
  "nbformat": 4,
  "nbformat_minor": 0,
  "metadata": {
    "colab": {
      "name": "[009] MobileNets: Efficient Convolutional Neural Networks for Mobile Vision Applications.ipynb",
      "provenance": [],
      "collapsed_sections": []
    },
    "kernelspec": {
      "name": "python3",
      "display_name": "Python 3"
    }
  },
  "cells": [
    {
      "cell_type": "markdown",
      "metadata": {
        "id": "ELkKOaaLIFx3"
      },
      "source": [
        "# **MobileNets: Efficient Convolutional Neural Networks for Mobile Vision Applications**\r\n",
        "\r\n",
        "Howard, A. G., Zhu, M., Chen, B., Kalenichenko, D., Wang, W., Weyand, T., ... & Adam, H. (2017). Mobilenets: Efficient convolutional neural networks for mobile vision applications. arXiv preprint arXiv:1704.04861."
      ]
    },
    {
      "cell_type": "code",
      "metadata": {
        "colab": {
          "base_uri": "https://localhost:8080/",
          "height": 35
        },
        "id": "-p5RLoduIFut",
        "outputId": "3d494765-ebb3-42a1-ce0f-882ba618dd1d"
      },
      "source": [
        "import tensorflow as tf\r\n",
        "tf.__version__"
      ],
      "execution_count": null,
      "outputs": [
        {
          "output_type": "execute_result",
          "data": {
            "application/vnd.google.colaboratory.intrinsic+json": {
              "type": "string"
            },
            "text/plain": [
              "'2.4.1'"
            ]
          },
          "metadata": {
            "tags": []
          },
          "execution_count": 1
        }
      ]
    },
    {
      "cell_type": "code",
      "metadata": {
        "id": "an28Wy00IFr6"
      },
      "source": [
        "def DepthwiseSeparableConv2D_BN_ReLU(\r\n",
        "    x, \r\n",
        "    i,                     ## just for naming\r\n",
        "    down_sampling = False,\r\n",
        "    up_filtering  = False,\r\n",
        "):\r\n",
        "    ## Depthwise separable convolutions with Depthwise and \r\n",
        "    ## Pointwise layers followed by batchnorm and ReLU.\r\n",
        "\r\n",
        "    ## In depthwise convolution, it mainly plays a role of \r\n",
        "    ## reducing the size of an image through strides adjustment.\r\n",
        "    x = tf.keras.layers.Conv2D(\r\n",
        "        x.shape[-1], \r\n",
        "        kernel_size = 3, \r\n",
        "        strides = 2 if down_sampling else 1, \r\n",
        "        padding = \"same\", \r\n",
        "        groups = x.shape[-1],\r\n",
        "        name = f\"Conv_DW_3x3_{i}\")(x)\r\n",
        "    x = tf.keras.layers.BatchNormalization()(x)\r\n",
        "    x = tf.keras.layers.ReLU()(x)\r\n",
        "\r\n",
        "    ## In pointwise convolution, it is mainly responsible for \r\n",
        "    ## doubling the dimension of the output by adjusting the filters.\r\n",
        "    x = tf.keras.layers.Conv2D(\r\n",
        "        x.shape[-1] * (2 if up_filtering else 1),\r\n",
        "        kernel_size = 1, \r\n",
        "        strides = 1, \r\n",
        "        padding = \"same\",\r\n",
        "        name = f\"Conv_1x1_{i}\")(x)\r\n",
        "    x = tf.keras.layers.BatchNormalization()(x)\r\n",
        "    x = tf.keras.layers.ReLU()(x)\r\n",
        "\r\n",
        "    return x"
      ],
      "execution_count": null,
      "outputs": []
    },
    {
      "cell_type": "code",
      "metadata": {
        "id": "ZTp5NZKAOhWR"
      },
      "source": [
        "IMAGE_SIZE = [224, 224, 3] ## Cropped ImageNet test size.\r\n",
        "\r\n",
        "def MobileNet_224(\r\n",
        "    model_name  = \"MobileNet\",\r\n",
        "    input_shape = IMAGE_SIZE,\r\n",
        "    num_classes = 1_000,\r\n",
        "    alpha       = 1., ## Width Multiplier; typical settings: [1, 0.75, 0.5, 0.25]\r\n",
        "):\r\n",
        "    \"\"\"Base MobileNet-224\"\"\"\r\n",
        "    assert input_shape[0] == input_shape[1]\r\n",
        "    rho = input_shape[0] / IMAGE_SIZE[0]\r\n",
        "\r\n",
        "    x = model_input = tf.keras.layers.Input(shape = input_shape, dtype = tf.dtypes.float32)\r\n",
        "\r\n",
        "    ## Entry flow.\r\n",
        "    original_filter_size = int(32 * alpha)\r\n",
        "    x = tf.keras.layers.Conv2D(original_filter_size, 3, strides = 2,\r\n",
        "                               padding = \"same\", name = \"Conv_3x3\")(x)\r\n",
        "\r\n",
        "    down_samplings = [False] + [True, False] * 2 + [True] + [False] * 5 + [True, False]\r\n",
        "    up_filterings  = [True]  + [True, False] * 2 + [True] + [False] * 5 + [True, False]\r\n",
        "\r\n",
        "    ## Middle flow.\r\n",
        "    for i, (down_sampling, up_filtering) in enumerate(zip(down_samplings, up_filterings)):\r\n",
        "        x = DepthwiseSeparableConv2D_BN_ReLU(x, i, down_sampling, up_filtering)\r\n",
        "\r\n",
        "    ## Exit flow.\r\n",
        "    x = tf.keras.layers.AveragePooling2D((x.shape[1], x.shape[2]))(x)\r\n",
        "    x = tf.keras.layers.Dense(num_classes, name = \"Fully_Connected\")(x)\r\n",
        "\r\n",
        "    model_output = x = tf.keras.layers.Softmax()(x)\r\n",
        "\r\n",
        "    return tf.keras.Model(\r\n",
        "        inputs = model_input,\r\n",
        "        outputs = model_output,\r\n",
        "        name = f\"{model_name}_{alpha:.2f}_{rho:.2f}\")"
      ],
      "execution_count": null,
      "outputs": []
    },
    {
      "cell_type": "code",
      "metadata": {
        "colab": {
          "base_uri": "https://localhost:8080/"
        },
        "id": "kEVG3KtROhTS",
        "outputId": "7385994b-8d26-4598-fc67-3d2bee8555ce"
      },
      "source": [
        "tmp = MobileNet_224(\"tmp\", input_shape = [160, 160, 3], alpha = .75)\r\n",
        "tmp.summary()"
      ],
      "execution_count": null,
      "outputs": [
        {
          "output_type": "stream",
          "text": [
            "Model: \"tmp_0.75_0.71\"\n",
            "_________________________________________________________________\n",
            "Layer (type)                 Output Shape              Param #   \n",
            "=================================================================\n",
            "input_11 (InputLayer)        [(None, 160, 160, 3)]     0         \n",
            "_________________________________________________________________\n",
            "Conv_3x3 (Conv2D)            (None, 80, 80, 24)        672       \n",
            "_________________________________________________________________\n",
            "Conv_DW_3x3_0 (Conv2D)       (None, 80, 80, 24)        240       \n",
            "_________________________________________________________________\n",
            "batch_normalization_234 (Bat (None, 80, 80, 24)        96        \n",
            "_________________________________________________________________\n",
            "re_lu_234 (ReLU)             (None, 80, 80, 24)        0         \n",
            "_________________________________________________________________\n",
            "Conv_1x1_0 (Conv2D)          (None, 80, 80, 48)        1200      \n",
            "_________________________________________________________________\n",
            "batch_normalization_235 (Bat (None, 80, 80, 48)        192       \n",
            "_________________________________________________________________\n",
            "re_lu_235 (ReLU)             (None, 80, 80, 48)        0         \n",
            "_________________________________________________________________\n",
            "Conv_DW_3x3_1 (Conv2D)       (None, 40, 40, 48)        480       \n",
            "_________________________________________________________________\n",
            "batch_normalization_236 (Bat (None, 40, 40, 48)        192       \n",
            "_________________________________________________________________\n",
            "re_lu_236 (ReLU)             (None, 40, 40, 48)        0         \n",
            "_________________________________________________________________\n",
            "Conv_1x1_1 (Conv2D)          (None, 40, 40, 96)        4704      \n",
            "_________________________________________________________________\n",
            "batch_normalization_237 (Bat (None, 40, 40, 96)        384       \n",
            "_________________________________________________________________\n",
            "re_lu_237 (ReLU)             (None, 40, 40, 96)        0         \n",
            "_________________________________________________________________\n",
            "Conv_DW_3x3_2 (Conv2D)       (None, 40, 40, 96)        960       \n",
            "_________________________________________________________________\n",
            "batch_normalization_238 (Bat (None, 40, 40, 96)        384       \n",
            "_________________________________________________________________\n",
            "re_lu_238 (ReLU)             (None, 40, 40, 96)        0         \n",
            "_________________________________________________________________\n",
            "Conv_1x1_2 (Conv2D)          (None, 40, 40, 96)        9312      \n",
            "_________________________________________________________________\n",
            "batch_normalization_239 (Bat (None, 40, 40, 96)        384       \n",
            "_________________________________________________________________\n",
            "re_lu_239 (ReLU)             (None, 40, 40, 96)        0         \n",
            "_________________________________________________________________\n",
            "Conv_DW_3x3_3 (Conv2D)       (None, 20, 20, 96)        960       \n",
            "_________________________________________________________________\n",
            "batch_normalization_240 (Bat (None, 20, 20, 96)        384       \n",
            "_________________________________________________________________\n",
            "re_lu_240 (ReLU)             (None, 20, 20, 96)        0         \n",
            "_________________________________________________________________\n",
            "Conv_1x1_3 (Conv2D)          (None, 20, 20, 192)       18624     \n",
            "_________________________________________________________________\n",
            "batch_normalization_241 (Bat (None, 20, 20, 192)       768       \n",
            "_________________________________________________________________\n",
            "re_lu_241 (ReLU)             (None, 20, 20, 192)       0         \n",
            "_________________________________________________________________\n",
            "Conv_DW_3x3_4 (Conv2D)       (None, 20, 20, 192)       1920      \n",
            "_________________________________________________________________\n",
            "batch_normalization_242 (Bat (None, 20, 20, 192)       768       \n",
            "_________________________________________________________________\n",
            "re_lu_242 (ReLU)             (None, 20, 20, 192)       0         \n",
            "_________________________________________________________________\n",
            "Conv_1x1_4 (Conv2D)          (None, 20, 20, 192)       37056     \n",
            "_________________________________________________________________\n",
            "batch_normalization_243 (Bat (None, 20, 20, 192)       768       \n",
            "_________________________________________________________________\n",
            "re_lu_243 (ReLU)             (None, 20, 20, 192)       0         \n",
            "_________________________________________________________________\n",
            "Conv_DW_3x3_5 (Conv2D)       (None, 10, 10, 192)       1920      \n",
            "_________________________________________________________________\n",
            "batch_normalization_244 (Bat (None, 10, 10, 192)       768       \n",
            "_________________________________________________________________\n",
            "re_lu_244 (ReLU)             (None, 10, 10, 192)       0         \n",
            "_________________________________________________________________\n",
            "Conv_1x1_5 (Conv2D)          (None, 10, 10, 384)       74112     \n",
            "_________________________________________________________________\n",
            "batch_normalization_245 (Bat (None, 10, 10, 384)       1536      \n",
            "_________________________________________________________________\n",
            "re_lu_245 (ReLU)             (None, 10, 10, 384)       0         \n",
            "_________________________________________________________________\n",
            "Conv_DW_3x3_6 (Conv2D)       (None, 10, 10, 384)       3840      \n",
            "_________________________________________________________________\n",
            "batch_normalization_246 (Bat (None, 10, 10, 384)       1536      \n",
            "_________________________________________________________________\n",
            "re_lu_246 (ReLU)             (None, 10, 10, 384)       0         \n",
            "_________________________________________________________________\n",
            "Conv_1x1_6 (Conv2D)          (None, 10, 10, 384)       147840    \n",
            "_________________________________________________________________\n",
            "batch_normalization_247 (Bat (None, 10, 10, 384)       1536      \n",
            "_________________________________________________________________\n",
            "re_lu_247 (ReLU)             (None, 10, 10, 384)       0         \n",
            "_________________________________________________________________\n",
            "Conv_DW_3x3_7 (Conv2D)       (None, 10, 10, 384)       3840      \n",
            "_________________________________________________________________\n",
            "batch_normalization_248 (Bat (None, 10, 10, 384)       1536      \n",
            "_________________________________________________________________\n",
            "re_lu_248 (ReLU)             (None, 10, 10, 384)       0         \n",
            "_________________________________________________________________\n",
            "Conv_1x1_7 (Conv2D)          (None, 10, 10, 384)       147840    \n",
            "_________________________________________________________________\n",
            "batch_normalization_249 (Bat (None, 10, 10, 384)       1536      \n",
            "_________________________________________________________________\n",
            "re_lu_249 (ReLU)             (None, 10, 10, 384)       0         \n",
            "_________________________________________________________________\n",
            "Conv_DW_3x3_8 (Conv2D)       (None, 10, 10, 384)       3840      \n",
            "_________________________________________________________________\n",
            "batch_normalization_250 (Bat (None, 10, 10, 384)       1536      \n",
            "_________________________________________________________________\n",
            "re_lu_250 (ReLU)             (None, 10, 10, 384)       0         \n",
            "_________________________________________________________________\n",
            "Conv_1x1_8 (Conv2D)          (None, 10, 10, 384)       147840    \n",
            "_________________________________________________________________\n",
            "batch_normalization_251 (Bat (None, 10, 10, 384)       1536      \n",
            "_________________________________________________________________\n",
            "re_lu_251 (ReLU)             (None, 10, 10, 384)       0         \n",
            "_________________________________________________________________\n",
            "Conv_DW_3x3_9 (Conv2D)       (None, 10, 10, 384)       3840      \n",
            "_________________________________________________________________\n",
            "batch_normalization_252 (Bat (None, 10, 10, 384)       1536      \n",
            "_________________________________________________________________\n",
            "re_lu_252 (ReLU)             (None, 10, 10, 384)       0         \n",
            "_________________________________________________________________\n",
            "Conv_1x1_9 (Conv2D)          (None, 10, 10, 384)       147840    \n",
            "_________________________________________________________________\n",
            "batch_normalization_253 (Bat (None, 10, 10, 384)       1536      \n",
            "_________________________________________________________________\n",
            "re_lu_253 (ReLU)             (None, 10, 10, 384)       0         \n",
            "_________________________________________________________________\n",
            "Conv_DW_3x3_10 (Conv2D)      (None, 10, 10, 384)       3840      \n",
            "_________________________________________________________________\n",
            "batch_normalization_254 (Bat (None, 10, 10, 384)       1536      \n",
            "_________________________________________________________________\n",
            "re_lu_254 (ReLU)             (None, 10, 10, 384)       0         \n",
            "_________________________________________________________________\n",
            "Conv_1x1_10 (Conv2D)         (None, 10, 10, 384)       147840    \n",
            "_________________________________________________________________\n",
            "batch_normalization_255 (Bat (None, 10, 10, 384)       1536      \n",
            "_________________________________________________________________\n",
            "re_lu_255 (ReLU)             (None, 10, 10, 384)       0         \n",
            "_________________________________________________________________\n",
            "Conv_DW_3x3_11 (Conv2D)      (None, 5, 5, 384)         3840      \n",
            "_________________________________________________________________\n",
            "batch_normalization_256 (Bat (None, 5, 5, 384)         1536      \n",
            "_________________________________________________________________\n",
            "re_lu_256 (ReLU)             (None, 5, 5, 384)         0         \n",
            "_________________________________________________________________\n",
            "Conv_1x1_11 (Conv2D)         (None, 5, 5, 768)         295680    \n",
            "_________________________________________________________________\n",
            "batch_normalization_257 (Bat (None, 5, 5, 768)         3072      \n",
            "_________________________________________________________________\n",
            "re_lu_257 (ReLU)             (None, 5, 5, 768)         0         \n",
            "_________________________________________________________________\n",
            "Conv_DW_3x3_12 (Conv2D)      (None, 5, 5, 768)         7680      \n",
            "_________________________________________________________________\n",
            "batch_normalization_258 (Bat (None, 5, 5, 768)         3072      \n",
            "_________________________________________________________________\n",
            "re_lu_258 (ReLU)             (None, 5, 5, 768)         0         \n",
            "_________________________________________________________________\n",
            "Conv_1x1_12 (Conv2D)         (None, 5, 5, 768)         590592    \n",
            "_________________________________________________________________\n",
            "batch_normalization_259 (Bat (None, 5, 5, 768)         3072      \n",
            "_________________________________________________________________\n",
            "re_lu_259 (ReLU)             (None, 5, 5, 768)         0         \n",
            "_________________________________________________________________\n",
            "average_pooling2d_9 (Average (None, 1, 1, 768)         0         \n",
            "_________________________________________________________________\n",
            "Fully_Connected (Dense)      (None, 1, 1, 1000)        769000    \n",
            "_________________________________________________________________\n",
            "softmax_8 (Softmax)          (None, 1, 1, 1000)        0         \n",
            "=================================================================\n",
            "Total params: 2,610,088\n",
            "Trainable params: 2,593,720\n",
            "Non-trainable params: 16,368\n",
            "_________________________________________________________________\n"
          ],
          "name": "stdout"
        }
      ]
    },
    {
      "cell_type": "code",
      "metadata": {
        "colab": {
          "base_uri": "https://localhost:8080/"
        },
        "id": "I-JQi-1kUgui",
        "outputId": "eaeab583-13db-42f1-e22a-c9bf562f257a"
      },
      "source": [
        "import collections\r\n",
        "\r\n",
        "param_count_dict = collections.OrderedDict({\r\n",
        "    \"Conv_1x1\": 0,\r\n",
        "    \"Conv_DW_3x3\": 0,\r\n",
        "    \"Conv_3x3\": 0,\r\n",
        "    \"Fully_Connected\": 0})\r\n",
        "\r\n",
        "for layer in tmp.layers:\r\n",
        "    for key in param_count_dict:\r\n",
        "        if key in layer.name:\r\n",
        "            param_count_dict[key] += layer.count_params()\r\n",
        "            continue\r\n",
        "\r\n",
        "total = sum(param_count_dict.values())\r\n",
        "param_count_dict = collections.OrderedDict(\r\n",
        "    {key: param_count_dict[key] / total for key in param_count_dict.keys()})\r\n",
        "\r\n",
        "for key, value in param_count_dict.items():\r\n",
        "    print(f\"{key}: {value * 100:.2f}\")"
      ],
      "execution_count": null,
      "outputs": [
        {
          "output_type": "stream",
          "text": [
            "Conv_1x1: 74.52\n",
            "Conv_DW_3x3: 1.18\n",
            "Conv_3x3: 0.02\n",
            "Fully_Connected: 24.28\n"
          ],
          "name": "stdout"
        }
      ]
    },
    {
      "cell_type": "code",
      "metadata": {
        "id": "LnI4a-ErcZKh"
      },
      "source": [
        "del tmp"
      ],
      "execution_count": null,
      "outputs": []
    },
    {
      "cell_type": "code",
      "metadata": {
        "id": "mJhzX6K6HdDj"
      },
      "source": [
        ""
      ],
      "execution_count": null,
      "outputs": []
    }
  ]
}