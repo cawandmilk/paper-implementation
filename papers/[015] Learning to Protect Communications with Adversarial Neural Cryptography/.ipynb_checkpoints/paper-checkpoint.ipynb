{
 "cells": [
  {
   "cell_type": "markdown",
   "metadata": {
    "id": "rLClqktuX9-U"
   },
   "source": [
    "# **Learning to Protect Communications with Adversarial Neural Cryptography**\r\n",
    "\r\n",
    "Abadi, M., & Andersen, D. G. (2016). Learning to protect communications with adversarial neural cryptography. arXiv preprint arXiv:1610.06918."
   ]
  },
  {
   "cell_type": "markdown",
   "metadata": {
    "id": "mxIPwnAPNWgC"
   },
   "source": [
    "## **Abstract**"
   ]
  },
  {
   "cell_type": "markdown",
   "metadata": {
    "id": "TKCTL0MrNWUl"
   },
   "source": [
    "We tried to implement the contents of the thesis as much as possible, but some modifications were added to the contents that were omitted or thought to need improvement.\r\n",
    "\r\n",
    "* Iteration: In the thesis, 25000 steps of mini-batch training was performed in one training, but in reality only 3000 steps were repeated.\r\n",
    "\r\n",
    "* Key Generation: Information on whether to remove a new key each time or keep the key that was first pulled is missing. Therefore, like Plaintext, Private (Shared) Key was created differently each time using Pseudo Random Number Generator.\r\n",
    "\r\n",
    "* Loss Function for Alice & Bob: Added 1 to loss(P)-loss(P_Bob) described in the paper. The old method thought that Alice & Bob's losses were a bit unnatural because they existed in the interval \\[-1, 0 + epsilon\\).\r\n",
    "\r\n",
    "* GradientTape: To calculate Bob's loss, Eve's loss is needed, which in turn needs Alice's output (Ciphertext). However, since Alice and Bob are connected, there is an unnatural feeling that must precede each other. So, we opened Alice & Bob's and Eve's GradientTape at the same time, training and calculating losses at once.\r\n",
    "\r\n",
    "All experimental contine aftedcommitting to Tensorboard Dev, and you can also check them at the address below:\r\n",
    "\r\n",
    "*https://tensorboard.dev/experiment/AhGDXCQ3QlmTkxLNCofqpQ/*"
   ]
  },
  {
   "cell_type": "markdown",
   "metadata": {
    "id": "O8v1V0vmZ7id"
   },
   "source": [
    "## **Default Setting**"
   ]
  },
  {
   "cell_type": "code",
   "execution_count": 108,
   "metadata": {
    "colab": {
     "base_uri": "https://localhost:8080/"
    },
    "executionInfo": {
     "elapsed": 937,
     "status": "ok",
     "timestamp": 1615011327866,
     "user": {
      "displayName": "Myung-Gyo Oh",
      "photoUrl": "",
      "userId": "01040732127983096879"
     },
     "user_tz": -540
    },
    "id": "JB2i2biSX97h",
    "outputId": "2d87443b-b08a-449e-cb11-aa9e3e77d22a"
   },
   "outputs": [
    {
     "name": "stdout",
     "output_type": "stream",
     "text": [
      "tf.__version__: 2.4.1\n"
     ]
    }
   ],
   "source": [
    "import tensorflow as tf\r\n",
    "\r\n",
    "import datetime\r\n",
    "\r\n",
    "from pathlib import Path\r\n",
    "\r\n",
    "print(f\"tf.__version__: {tf.__version__}\")"
   ]
  },
  {
   "cell_type": "code",
   "execution_count": 2,
   "metadata": {
    "executionInfo": {
     "elapsed": 2554,
     "status": "ok",
     "timestamp": 1615008668089,
     "user": {
      "displayName": "Myung-Gyo Oh",
      "photoUrl": "",
      "userId": "01040732127983096879"
     },
     "user_tz": -540
    },
    "id": "t0AXVQ1BZ5iT"
   },
   "outputs": [],
   "source": [
    "class HParams(object):\r\n",
    "    def __init__(self):\r\n",
    "        self.N = 16 ## 16 bits\r\n",
    "        self.global_batch_sz = 4096\r\n",
    "        self.auto = tf.data.AUTOTUNE\r\n",
    "        \r\n",
    "HPARAMS = HParams()"
   ]
  },
  {
   "cell_type": "markdown",
   "metadata": {
    "id": "g4TkrLCNggLu"
   },
   "source": [
    "## **Dataset Pipeline**"
   ]
  },
  {
   "cell_type": "code",
   "execution_count": 148,
   "metadata": {
    "executionInfo": {
     "elapsed": 756,
     "status": "ok",
     "timestamp": 1615012856893,
     "user": {
      "displayName": "Myung-Gyo Oh",
      "photoUrl": "",
      "userId": "01040732127983096879"
     },
     "user_tz": -540
    },
    "id": "ZQhXWdTdggI4"
   },
   "outputs": [],
   "source": [
    "prng = tf.random.Generator.from_non_deterministic_state()\r\n",
    "\r\n",
    "# @tf.function\r\n",
    "def generator():\r\n",
    "    while True:\r\n",
    "        ## Generate random bits with a batched shape. \r\n",
    "        ## This may reduces repetitive prng calls.\r\n",
    "        uniformed_bits = prng.uniform((HPARAMS.global_batch_sz, HPARAMS.N), \r\n",
    "                                      minval = -1, maxval = 1, dtype = tf.float32)\r\n",
    "        \r\n",
    "        ## The range of the uniform function is the semi-opening of [-1, 1). \r\n",
    "        ## Therefore, we cast the section by dividing it into [-1, 0), [0, 1).\r\n",
    "        yield tf.where(uniformed_bits >= 0, 1., -1)"
   ]
  },
  {
   "cell_type": "code",
   "execution_count": 149,
   "metadata": {
    "executionInfo": {
     "elapsed": 828,
     "status": "ok",
     "timestamp": 1615012857209,
     "user": {
      "displayName": "Myung-Gyo Oh",
      "photoUrl": "",
      "userId": "01040732127983096879"
     },
     "user_tz": -540
    },
    "id": "U-PST9QWgfhH"
   },
   "outputs": [],
   "source": [
    "## The key is selected anew each time. This part was not mentioned \r\n",
    "## in the paper, but of course I decided that it would be reasonable \r\n",
    "## to use a new key every time.\r\n",
    "bit_gen = tf.data.Dataset.from_generator(\r\n",
    "    generator, \r\n",
    "    output_signature = tf.TensorSpec(shape = (HPARAMS.global_batch_sz, HPARAMS.N), dtype = tf.float32))\r\n",
    "\r\n",
    "key_gen = tf.data.Dataset.from_generator(\r\n",
    "    generator, \r\n",
    "    output_signature = tf.TensorSpec(shape = (HPARAMS.global_batch_sz, HPARAMS.N), dtype = tf.float32))\r\n",
    "\r\n",
    "ds = tf.data.Dataset.zip((bit_gen, key_gen)\r\n",
    "            ).repeat(\r\n",
    "            ).prefetch(HPARAMS.auto)"
   ]
  },
  {
   "cell_type": "code",
   "execution_count": 76,
   "metadata": {
    "colab": {
     "base_uri": "https://localhost:8080/"
    },
    "executionInfo": {
     "elapsed": 628,
     "status": "ok",
     "timestamp": 1615002587795,
     "user": {
      "displayName": "Myung-Gyo Oh",
      "photoUrl": "",
      "userId": "01040732127983096879"
     },
     "user_tz": -540
    },
    "id": "42AU7zxqjy3b",
    "outputId": "03447966-affa-4407-98ed-f568c38e5de5"
   },
   "outputs": [
    {
     "name": "stdout",
     "output_type": "stream",
     "text": [
      "(4096, 16) (4096, 16)\n"
     ]
    }
   ],
   "source": [
    "for element in ds.take(1):\r\n",
    "    foo, bar = element\r\n",
    "    print(foo.shape, bar.shape)"
   ]
  },
  {
   "cell_type": "code",
   "execution_count": 77,
   "metadata": {
    "colab": {
     "base_uri": "https://localhost:8080/"
    },
    "executionInfo": {
     "elapsed": 593,
     "status": "ok",
     "timestamp": 1615002594188,
     "user": {
      "displayName": "Myung-Gyo Oh",
      "photoUrl": "",
      "userId": "01040732127983096879"
     },
     "user_tz": -540
    },
    "id": "Jp5D9gBpgfkJ",
    "outputId": "226552db-85f2-445b-8061-c19856c93c1e"
   },
   "outputs": [
    {
     "data": {
      "text/plain": [
       "<tf.Tensor: shape=(4096, 16), dtype=float32, numpy=\n",
       "array([[-1., -1.,  1., ...,  1.,  1., -1.],\n",
       "       [ 1.,  1., -1., ..., -1., -1., -1.],\n",
       "       [ 1., -1., -1., ...,  1., -1., -1.],\n",
       "       ...,\n",
       "       [ 1., -1., -1., ..., -1., -1.,  1.],\n",
       "       [-1.,  1., -1., ...,  1., -1.,  1.],\n",
       "       [ 1., -1., -1., ..., -1., -1., -1.]], dtype=float32)>"
      ]
     },
     "execution_count": 77,
     "metadata": {
      "tags": []
     },
     "output_type": "execute_result"
    }
   ],
   "source": [
    "foo"
   ]
  },
  {
   "cell_type": "code",
   "execution_count": 78,
   "metadata": {
    "colab": {
     "base_uri": "https://localhost:8080/"
    },
    "executionInfo": {
     "elapsed": 578,
     "status": "ok",
     "timestamp": 1615002596653,
     "user": {
      "displayName": "Myung-Gyo Oh",
      "photoUrl": "",
      "userId": "01040732127983096879"
     },
     "user_tz": -540
    },
    "id": "bbe3tC5Bp-_l",
    "outputId": "318d2219-3624-45db-a76b-fbf3561a6682"
   },
   "outputs": [
    {
     "data": {
      "text/plain": [
       "<tf.Tensor: shape=(4096, 16), dtype=float32, numpy=\n",
       "array([[-1.,  1.,  1., ...,  1.,  1., -1.],\n",
       "       [ 1.,  1.,  1., ...,  1.,  1., -1.],\n",
       "       [-1.,  1.,  1., ...,  1.,  1., -1.],\n",
       "       ...,\n",
       "       [ 1.,  1.,  1., ...,  1., -1.,  1.],\n",
       "       [ 1.,  1.,  1., ..., -1., -1., -1.],\n",
       "       [-1., -1., -1., ...,  1.,  1.,  1.]], dtype=float32)>"
      ]
     },
     "execution_count": 78,
     "metadata": {
      "tags": []
     },
     "output_type": "execute_result"
    }
   ],
   "source": [
    "bar"
   ]
  },
  {
   "cell_type": "markdown",
   "metadata": {
    "id": "J-HEffnXdCtY"
   },
   "source": [
    "## **Build the Network**"
   ]
  },
  {
   "cell_type": "code",
   "execution_count": 5,
   "metadata": {
    "executionInfo": {
     "elapsed": 1422,
     "status": "ok",
     "timestamp": 1615008691346,
     "user": {
      "displayName": "Myung-Gyo Oh",
      "photoUrl": "",
      "userId": "01040732127983096879"
     },
     "user_tz": -540
    },
    "id": "FbWK4YYhX94v"
   },
   "outputs": [],
   "source": [
    "def Communicator(model_name, N = HPARAMS.N):\r\n",
    "\r\n",
    "    def Node(model_name):\r\n",
    "        x_1 = model_input_1 = tf.keras.layers.Input(shape = (N,))\r\n",
    "        x_2 = model_input_2 = tf.keras.layers.Input(shape = (N,))\r\n",
    "\r\n",
    "        ## Concat two texts.\r\n",
    "        x = tf.keras.layers.Concatenate()([x_1, x_2])\r\n",
    "\r\n",
    "        ## A fully connected layer.\r\n",
    "        x = tf.keras.layers.Dense(2 * N)(x)\r\n",
    "\r\n",
    "        ## Four 1-D convolutional layers followed by a sigmoid activation function.\r\n",
    "        x = tf.keras.layers.Reshape((-1, 1))(x) ## expand dims\r\n",
    "        \r\n",
    "        for i, (filters, kernel_size, strides) in enumerate([(4, 2, 1), (2, 4, 2), (1, 4, 1), (1, 1, 1)]):\r\n",
    "            x = tf.keras.layers.Conv1D(filters = filters, \r\n",
    "                                    kernel_size = kernel_size, \r\n",
    "                                    strides = strides,\r\n",
    "                                    padding = \"same\")(x)\r\n",
    "            ## Apply sigmoid without the final layer.\r\n",
    "            if i != 3:\r\n",
    "                x = tf.keras.layers.Activation(tf.keras.activations.sigmoid)(x)\r\n",
    "\r\n",
    "        ## Apply tanh nonlinear unit.\r\n",
    "        x = tf.keras.layers.Reshape((-1,))(x)\r\n",
    "        model_output = x = tf.keras.layers.Activation(tf.keras.activations.tanh)(x)\r\n",
    "\r\n",
    "        return tf.keras.Model(\r\n",
    "            inputs = [model_input_1, model_input_2],\r\n",
    "            outputs = model_output,\r\n",
    "            name = model_name)\r\n",
    "\r\n",
    "    P = model_input_1 = tf.keras.layers.Input(shape = (N,)) ## Plaintext\r\n",
    "    K = model_input_2 = tf.keras.layers.Input(shape = (N,)) ## Shared key\r\n",
    "\r\n",
    "    Alice = Node(\"Alice\")\r\n",
    "    Bob   = Node(\"Bob\")\r\n",
    "    \r\n",
    "    ## Bob, like Alice, takes a key bit as the second argument.\r\n",
    "    C = Alice([P, K])\r\n",
    "    P_Bob = Bob([C, K])\r\n",
    "\r\n",
    "    return tf.keras.Model(\r\n",
    "        inputs = [model_input_1, model_input_2],\r\n",
    "        outputs = [C, P_Bob],\r\n",
    "        name = model_name)\r\n",
    "    \r\n",
    "        \r\n",
    "def Eavesdropper(model_name, N = HPARAMS.N):\r\n",
    "    x = model_input = tf.keras.layers.Input(shape = (N,))\r\n",
    "\r\n",
    "    ## A fully connected layer.\r\n",
    "    x = tf.keras.layers.Dense(2 * N)(x)\r\n",
    "\r\n",
    "    ## Four 1-D convolutional layers followed by a sigmoid activation function.\r\n",
    "    x = tf.keras.layers.Reshape((-1, 1))(x) ## expand dims\r\n",
    "    \r\n",
    "    for i, (filters, kernel_size, strides) in enumerate([(4, 2, 1), (2, 4, 2), (1, 4, 1), (1, 1, 1)]):\r\n",
    "        x = tf.keras.layers.Conv1D(filters = filters, \r\n",
    "                                   kernel_size = kernel_size, \r\n",
    "                                   strides = strides,\r\n",
    "                                   padding = \"same\")(x)\r\n",
    "        ## Apply sigmoid without the final layer.\r\n",
    "        if i != 3:\r\n",
    "            x = tf.keras.layers.Activation(tf.keras.activations.sigmoid)(x)\r\n",
    "\r\n",
    "    ## Apply tanh nonlinear unit.\r\n",
    "    x = tf.keras.layers.Reshape((-1,))(x)\r\n",
    "    model_output = x = tf.keras.layers.Activation(tf.keras.activations.tanh)(x)\r\n",
    "\r\n",
    "    return tf.keras.Model(\r\n",
    "        inputs = model_input,\r\n",
    "        outputs = model_output,\r\n",
    "        name = model_name)"
   ]
  },
  {
   "cell_type": "code",
   "execution_count": 18,
   "metadata": {
    "colab": {
     "base_uri": "https://localhost:8080/"
    },
    "executionInfo": {
     "elapsed": 770,
     "status": "ok",
     "timestamp": 1615006706108,
     "user": {
      "displayName": "Myung-Gyo Oh",
      "photoUrl": "",
      "userId": "01040732127983096879"
     },
     "user_tz": -540
    },
    "id": "NjnzAvHadBmc",
    "outputId": "2f7056bb-6f43-4d64-c9b3-8b729e7976e8"
   },
   "outputs": [
    {
     "name": "stdout",
     "output_type": "stream",
     "text": [
      "Model: \"Alice_and_Bob\"\n",
      "__________________________________________________________________________________________________\n",
      "Layer (type)                    Output Shape         Param #     Connected to                     \n",
      "==================================================================================================\n",
      "input_6 (InputLayer)            [(None, 16)]         0                                            \n",
      "__________________________________________________________________________________________________\n",
      "input_7 (InputLayer)            [(None, 16)]         0                                            \n",
      "__________________________________________________________________________________________________\n",
      "Alice (Functional)              (None, 16)           1113        input_6[0][0]                    \n",
      "                                                                 input_7[0][0]                    \n",
      "__________________________________________________________________________________________________\n",
      "Bob (Functional)                (None, 16)           1113        Alice[0][0]                      \n",
      "                                                                 input_7[0][0]                    \n",
      "==================================================================================================\n",
      "Total params: 2,226\n",
      "Trainable params: 2,226\n",
      "Non-trainable params: 0\n",
      "__________________________________________________________________________________________________\n"
     ]
    }
   ],
   "source": [
    "tmp = Communicator(\"Alice_and_Bob\")\r\n",
    "tmp.summary()"
   ]
  },
  {
   "cell_type": "code",
   "execution_count": 19,
   "metadata": {
    "colab": {
     "base_uri": "https://localhost:8080/",
     "height": 312
    },
    "executionInfo": {
     "elapsed": 1321,
     "status": "ok",
     "timestamp": 1615006718216,
     "user": {
      "displayName": "Myung-Gyo Oh",
      "photoUrl": "",
      "userId": "01040732127983096879"
     },
     "user_tz": -540
    },
    "id": "qhH8VVKd5rLJ",
    "outputId": "ccee4b0e-a48a-4d76-91db-c76e13dd37d7"
   },
   "outputs": [
    {
     "data": {
      "image/png": "[encoded data removed]",
      "text/plain": [
       "<IPython.core.display.Image object>"
      ]
     },
     "execution_count": 19,
     "metadata": {
      "tags": []
     },
     "output_type": "execute_result"
    }
   ],
   "source": [
    "tf.keras.utils.plot_model(tmp, show_shapes = True)"
   ]
  },
  {
   "cell_type": "code",
   "execution_count": 20,
   "metadata": {
    "executionInfo": {
     "elapsed": 759,
     "status": "ok",
     "timestamp": 1615006745454,
     "user": {
      "displayName": "Myung-Gyo Oh",
      "photoUrl": "",
      "userId": "01040732127983096879"
     },
     "user_tz": -540
    },
    "id": "_6qPfTbXX03V"
   },
   "outputs": [],
   "source": [
    "del tmp"
   ]
  },
  {
   "cell_type": "markdown",
   "metadata": {
    "id": "1xK8m2QsePcp"
   },
   "source": [
    "## **Loss Function**"
   ]
  },
  {
   "cell_type": "code",
   "execution_count": 132,
   "metadata": {
    "executionInfo": {
     "elapsed": 768,
     "status": "ok",
     "timestamp": 1615011775180,
     "user": {
      "displayName": "Myung-Gyo Oh",
      "photoUrl": "",
      "userId": "01040732127983096879"
     },
     "user_tz": -540
    },
    "id": "uddxU0jfePZ_"
   },
   "outputs": [],
   "source": [
    "@tf.function\r\n",
    "def l1_loss_fn(y_true, y_pred, N = HPARAMS.N):\r\n",
    "    l1_error = tf.math.reduce_mean(tf.norm(tf.math.abs(y_true - y_pred), ord = 1, axis = -1))\r\n",
    "    bits_wrong = tf.math.abs(N / 2 - l1_error)\r\n",
    "    return bits_wrong ** 2 / (N / 2) ** 2, bits_wrong"
   ]
  },
  {
   "cell_type": "markdown",
   "metadata": {
    "id": "VkOjUcIdfXeM"
   },
   "source": [
    "## **Fit the Networks**"
   ]
  },
  {
   "cell_type": "code",
   "execution_count": 150,
   "metadata": {
    "executionInfo": {
     "elapsed": 853,
     "status": "ok",
     "timestamp": 1615012862910,
     "user": {
      "displayName": "Myung-Gyo Oh",
      "photoUrl": "",
      "userId": "01040732127983096879"
     },
     "user_tz": -540
    },
    "id": "dXDil9wi9mwc"
   },
   "outputs": [],
   "source": [
    "!rm -rf logs"
   ]
  },
  {
   "cell_type": "code",
   "execution_count": 151,
   "metadata": {
    "executionInfo": {
     "elapsed": 1056,
     "status": "ok",
     "timestamp": 1615012863274,
     "user": {
      "displayName": "Myung-Gyo Oh",
      "photoUrl": "",
      "userId": "01040732127983096879"
     },
     "user_tz": -540
    },
    "id": "zjuPjxmifXbU"
   },
   "outputs": [],
   "source": [
    "## Generator\r\n",
    "Alice_and_Bob = Communicator(\"Alice_and_Bob\")\r\n",
    "\r\n",
    "## Discriminator\r\n",
    "Eve   = Eavesdropper(\"Eve\")"
   ]
  },
  {
   "cell_type": "code",
   "execution_count": 152,
   "metadata": {
    "executionInfo": {
     "elapsed": 894,
     "status": "ok",
     "timestamp": 1615012863274,
     "user": {
      "displayName": "Myung-Gyo Oh",
      "photoUrl": "",
      "userId": "01040732127983096879"
     },
     "user_tz": -540
    },
    "id": "_VGHMVFtePXB"
   },
   "outputs": [],
   "source": [
    "## Optimizers\r\n",
    "Alice_and_Bob_optimizer = tf.keras.optimizers.Adam(lr = 8e-4)\r\n",
    "Eve_optimizer           = tf.keras.optimizers.Adam(lr = 8e-4)\r\n",
    "\r\n",
    "## Loss function\r\n",
    "loss_fn = l1_loss_fn"
   ]
  },
  {
   "cell_type": "code",
   "execution_count": 153,
   "metadata": {
    "executionInfo": {
     "elapsed": 735,
     "status": "ok",
     "timestamp": 1615012863275,
     "user": {
      "displayName": "Myung-Gyo Oh",
      "photoUrl": "",
      "userId": "01040732127983096879"
     },
     "user_tz": -540
    },
    "id": "iRwm13GPgS_y"
   },
   "outputs": [],
   "source": [
    "## Tensorboard writer.\r\n",
    "nowtime = datetime.datetime.now().strftime(\"%Y%m%d-%H%M%S\")\r\n",
    "log_dir = Path(\"logs\") / Path(\"fit\") / Path(nowtime)\r\n",
    "\r\n",
    "Alice_and_Bob_summary_writer = tf.summary.create_file_writer(str(log_dir / Path(\"Alice_and_Bob\")))\r\n",
    "Eve_summary_writer           = tf.summary.create_file_writer(str(log_dir / Path(\"Eve\")))"
   ]
  },
  {
   "cell_type": "code",
   "execution_count": 154,
   "metadata": {
    "executionInfo": {
     "elapsed": 565,
     "status": "ok",
     "timestamp": 1615012863275,
     "user": {
      "displayName": "Myung-Gyo Oh",
      "photoUrl": "",
      "userId": "01040732127983096879"
     },
     "user_tz": -540
    },
    "id": "BXtousTjgS9O"
   },
   "outputs": [],
   "source": [
    "# @tf.function\r\n",
    "def train_step(P, K, step, N = HPARAMS.N):\r\n",
    "    \"\"\"\r\n",
    "        P: Plaintext\r\n",
    "        K: Shared secret key\r\n",
    "    \"\"\"\r\n",
    "\r\n",
    "    ## To calculate Alice and Bob's loss, Eve's loss must be calculated first, \r\n",
    "    ## but to calculate Eve's loss, Alice's work must be preceded again. So, \r\n",
    "    ## we create two GradientTapes at the same time and write them all together.\r\n",
    "    with tf.GradientTape() as com_tape, tf.GradientTape() as evs_tape:\r\n",
    "        C, P_Bob = Alice_and_Bob([P, K], training = True)\r\n",
    "        P_Eve = Eve(C, training = True)\r\n",
    "\r\n",
    "        ## Define two losses: communicator's and eavesdropper's.\r\n",
    "        ## Alice and Bob's loss naturally moves over the interval \r\n",
    "        ## [0, 2] while learning proceeds in the direction of \r\n",
    "        ## maximizing Eve's loss.\r\n",
    "        evs_loss, evs_bit_loss = loss_fn(P, P_Eve)\r\n",
    "        com_loss, com_bit_loss = loss_fn(P, P_Bob)\r\n",
    "        com_loss = com_loss - evs_loss + 1. \r\n",
    "\r\n",
    "    ## I wonder if the two models should be combined into one generator.\r\n",
    "    gradients_of_Alice_and_Bob = com_tape.gradient(com_loss, Alice_and_Bob.trainable_variables)\r\n",
    "    gradients_of_Eve           = evs_tape.gradient(evs_loss, Eve.trainable_variables)\r\n",
    "\r\n",
    "    Alice_and_Bob_optimizer.apply_gradients(zip(gradients_of_Alice_and_Bob, Alice_and_Bob.trainable_variables))\r\n",
    "    Eve_optimizer.apply_gradients(zip(gradients_of_Eve, Eve.trainable_variables))\r\n",
    "    \r\n",
    "    ## Record the loss graph.\r\n",
    "    ## Apart from the loss, bits wrong belonging to the \r\n",
    "    ## interval [0, 8] are calculated and recorded.\r\n",
    "    with Alice_and_Bob_summary_writer.as_default(step = step):\r\n",
    "        tf.summary.scalar(\"Loss\", com_loss)\r\n",
    "        tf.summary.scalar(\"Bits wrong\", com_bit_loss)\r\n",
    "\r\n",
    "    with Eve_summary_writer.as_default(step = step):\r\n",
    "        tf.summary.scalar(\"Loss\", evs_loss)\r\n",
    "        tf.summary.scalar(\"Bits wrong\", evs_bit_loss)\r\n",
    "\r\n",
    "    return com_loss, evs_loss"
   ]
  },
  {
   "cell_type": "code",
   "execution_count": 155,
   "metadata": {
    "executionInfo": {
     "elapsed": 739,
     "status": "ok",
     "timestamp": 1615012864977,
     "user": {
      "displayName": "Myung-Gyo Oh",
      "photoUrl": "",
      "userId": "01040732127983096879"
     },
     "user_tz": -540
    },
    "id": "Erx75ahFgS6C"
   },
   "outputs": [],
   "source": [
    "def train(ds, steps = 3_000):\r\n",
    "    for step, (P, K) in enumerate(ds):\r\n",
    "        com_loss, evs_loss = train_step(P, K, step)\r\n",
    "\r\n",
    "        ## Display training times of each 10 iters.\r\n",
    "        if not (step % 100):\r\n",
    "            print(f\"[{step:04d}] Alice_and_Bob_loss: {com_loss:.4f}, Eve_loss: {evs_loss:.4f}\")\r\n",
    "\r\n",
    "        if step >= steps:\r\n",
    "            break"
   ]
  },
  {
   "cell_type": "code",
   "execution_count": 156,
   "metadata": {
    "colab": {
     "base_uri": "https://localhost:8080/"
    },
    "executionInfo": {
     "elapsed": 123449,
     "status": "ok",
     "timestamp": 1615012988308,
     "user": {
      "displayName": "Myung-Gyo Oh",
      "photoUrl": "",
      "userId": "01040732127983096879"
     },
     "user_tz": -540
    },
    "id": "7kEPj-sLePKZ",
    "outputId": "d6290167-0ac0-4319-f641-40af79f8bc74"
   },
   "outputs": [
    {
     "name": "stdout",
     "output_type": "stream",
     "text": [
      "[0000] Alice_and_Bob_loss: 0.9689, Eve_loss: 1.0159\n",
      "[0100] Alice_and_Bob_loss: 1.0025, Eve_loss: 0.9990\n",
      "[0200] Alice_and_Bob_loss: 0.9965, Eve_loss: 1.0014\n",
      "[0300] Alice_and_Bob_loss: 0.9733, Eve_loss: 1.0057\n",
      "[0400] Alice_and_Bob_loss: 0.8354, Eve_loss: 0.9855\n",
      "[0500] Alice_and_Bob_loss: 0.6777, Eve_loss: 0.8792\n",
      "[0600] Alice_and_Bob_loss: 0.8154, Eve_loss: 0.6459\n",
      "[0700] Alice_and_Bob_loss: 0.7377, Eve_loss: 0.6953\n",
      "[0800] Alice_and_Bob_loss: 0.6015, Eve_loss: 0.7393\n",
      "[0900] Alice_and_Bob_loss: 0.5283, Eve_loss: 0.7484\n",
      "[1000] Alice_and_Bob_loss: 0.4534, Eve_loss: 0.7611\n",
      "[1100] Alice_and_Bob_loss: 0.3915, Eve_loss: 0.7789\n",
      "[1200] Alice_and_Bob_loss: 0.3503, Eve_loss: 0.7935\n",
      "[1300] Alice_and_Bob_loss: 0.3267, Eve_loss: 0.7934\n",
      "[1400] Alice_and_Bob_loss: 0.2660, Eve_loss: 0.8375\n",
      "[1500] Alice_and_Bob_loss: 0.2659, Eve_loss: 0.8216\n",
      "[1600] Alice_and_Bob_loss: 0.2442, Eve_loss: 0.8282\n",
      "[1700] Alice_and_Bob_loss: 0.2061, Eve_loss: 0.8529\n",
      "[1800] Alice_and_Bob_loss: 0.1931, Eve_loss: 0.8548\n",
      "[1900] Alice_and_Bob_loss: 0.1577, Eve_loss: 0.8809\n",
      "[2000] Alice_and_Bob_loss: 0.1576, Eve_loss: 0.8770\n",
      "[2100] Alice_and_Bob_loss: 0.1459, Eve_loss: 0.8928\n",
      "[2200] Alice_and_Bob_loss: 0.1567, Eve_loss: 0.8793\n",
      "[2300] Alice_and_Bob_loss: 0.1474, Eve_loss: 0.8837\n",
      "[2400] Alice_and_Bob_loss: 0.1384, Eve_loss: 0.8902\n",
      "[2500] Alice_and_Bob_loss: 0.1288, Eve_loss: 0.8937\n",
      "[2600] Alice_and_Bob_loss: 0.0917, Eve_loss: 0.9255\n",
      "[2700] Alice_and_Bob_loss: 0.0715, Eve_loss: 0.9491\n",
      "[2800] Alice_and_Bob_loss: 0.0598, Eve_loss: 0.9663\n",
      "[2900] Alice_and_Bob_loss: 0.0084, Eve_loss: 1.0371\n",
      "[3000] Alice_and_Bob_loss: 0.0922, Eve_loss: 0.9528\n",
      "CPU times: user 2min 9s, sys: 4.6 s, total: 2min 14s\n",
      "Wall time: 2min 2s\n"
     ]
    }
   ],
   "source": [
    "%%time\r\n",
    "train(ds)"
   ]
  },
  {
   "cell_type": "code",
   "execution_count": null,
   "metadata": {
    "id": "eFsl-8IFGrRn"
   },
   "outputs": [],
   "source": [
    "# %load_ext tensorboard\r\n",
    "# %tensorboard --logdir logs/fit"
   ]
  },
  {
   "cell_type": "code",
   "execution_count": null,
   "metadata": {
    "id": "N6Rv0BAmGrNm"
   },
   "outputs": [],
   "source": [
    "!tensorboard dev upload --logdir ./logs \\\r\n",
    "    --name \"Experiment of 'Learning to Protect Communications with Adversarial Neural Cryptography'\" \\\r\n",
    "    --description \"Implemented training results from the paper 'https://arxiv.org/abs/1610.06918'\" \\\r\n",
    "    --one_shot"
   ]
  },
  {
   "cell_type": "code",
   "execution_count": null,
   "metadata": {
    "colab": {
     "base_uri": "https://localhost:8080/",
     "height": 1000
    },
    "executionInfo": {
     "elapsed": 773,
     "status": "ok",
     "timestamp": 1615013172613,
     "user": {
      "displayName": "Myung-Gyo Oh",
      "photoUrl": "",
      "userId": "01040732127983096879"
     },
     "user_tz": -540
    },
    "id": "6mJxeDHtSIm8",
    "outputId": "d3dbf7bf-aa58-461a-8151-429b3026c163"
   },
   "outputs": [],
   "source": [
    "from IPython import display\r\n",
    "display.IFrame(\r\n",
    "    src = \"https://tensorboard.dev/experiment/AhGDXCQ3QlmTkxLNCofqpQ/\",\r\n",
    "    width = \"100%\",\r\n",
    "    height = \"1000px\")"
   ]
  },
  {
   "cell_type": "code",
   "execution_count": null,
   "metadata": {
    "id": "7v0MN5c7DRdn"
   },
   "outputs": [],
   "source": []
  }
 ],
 "metadata": {
  "accelerator": "GPU",
  "colab": {
   "authorship_tag": "ABX9TyMlXc6Rg1H3svMFmf8kEb6s",
   "collapsed_sections": [],
   "machine_shape": "hm",
   "name": "[015] Learning to Protect Communications with Adversarial Neural Cryptography.ipynb",
   "provenance": []
  },
  "kernelspec": {
   "display_name": "Python 3",
   "language": "python",
   "name": "python3"
  },
  "language_info": {
   "codemirror_mode": {
    "name": "ipython",
    "version": 3
   },
   "file_extension": ".py",
   "mimetype": "text/x-python",
   "name": "python",
   "nbconvert_exporter": "python",
   "pygments_lexer": "ipython3",
   "version": "3.6.9"
  }
 },
 "nbformat": 4,
 "nbformat_minor": 4
}
