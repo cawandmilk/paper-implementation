{
 "cells": [
  {
   "cell_type": "markdown",
   "metadata": {
    "id": "w0IfLYsV518K"
   },
   "source": [
    "# **Attention Is All You Need**\n",
    "\n",
    "Vaswani, A., Shazeer, N., Parmar, N., Uszkoreit, J., Jones, L., Gomez, A. N., ... & Polosukhin, I. (2017). Attention is all you need. arXiv preprint arXiv:1706.03762.\n",
    "\n",
    "Most of the code is quoted from the website below:\n",
    "\n",
    "*https://wikidocs.net/31379*"
   ]
  },
  {
   "cell_type": "markdown",
   "metadata": {
    "id": "3naiFbdR7NhM"
   },
   "source": [
    "## **Default Setting**"
   ]
  },
  {
   "cell_type": "code",
   "execution_count": null,
   "metadata": {},
   "outputs": [],
   "source": [
    "# !pip install -q tensorflow_datasets tensorflow_text"
   ]
  },
  {
   "cell_type": "code",
   "execution_count": 1,
   "metadata": {
    "colab": {
     "base_uri": "https://localhost:8080/",
     "height": 35
    },
    "executionInfo": {
     "elapsed": 3528,
     "status": "ok",
     "timestamp": 1617070517333,
     "user": {
      "displayName": "Myung-Gyo Oh",
      "photoUrl": "",
      "userId": "01040732127983096879"
     },
     "user_tz": -540
    },
    "id": "gmr0sq8Q515N",
    "outputId": "0e8ee1b0-db6f-42a2-8eb4-be3d5f165197"
   },
   "outputs": [
    {
     "name": "stdout",
     "output_type": "stream",
     "text": [
      "tf.__version__: 2.4.1\n",
      "tfds.__version__: 4.2.0\n"
     ]
    }
   ],
   "source": [
    "import tensorflow_datasets as tfds\n",
    "import tensorflow_text as text\n",
    "import tensorflow as tf\n",
    "\n",
    "import collections\n",
    "import logging\n",
    "import os\n",
    "import re\n",
    "import string\n",
    "import sys\n",
    "import time\n",
    "import numpy as np\n",
    "\n",
    "from adabelief_tf import AdaBeliefOptimizer\n",
    "from matplotlib import pyplot as plt\n",
    "from pathlib import Path\n",
    "\n",
    "print(f\"tf.__version__: {tf.__version__}\")\n",
    "print(f\"tfds.__version__: {tfds.__version__}\")\n",
    "# print(f\"text.__version__: {text.__version__}\")"
   ]
  },
  {
   "cell_type": "code",
   "execution_count": 2,
   "metadata": {},
   "outputs": [],
   "source": [
    "logging.getLogger(\"tensorflow\").setLevel(logging.ERROR)  # suppress warnings"
   ]
  },
  {
   "cell_type": "code",
   "execution_count": 3,
   "metadata": {},
   "outputs": [],
   "source": [
    "tf.keras.mixed_precision.set_global_policy(\"mixed_float16\") ## Mixed precision."
   ]
  },
  {
   "cell_type": "code",
   "execution_count": 4,
   "metadata": {},
   "outputs": [
    {
     "name": "stdout",
     "output_type": "stream",
     "text": [
      "1 Physical GPUs, 1 Logical GPUs.\n"
     ]
    }
   ],
   "source": [
    "\n",
    "# If you wanna avoid below error, you need to run below codes when you start kernel.\n",
    "\n",
    "# UnknownError: Failed to get convolution algorithm. This is probably because cuDNN failed to initialize, \n",
    "# so try looking to see if a warning log message was printed above. [Op:Conv2D]\n",
    "\n",
    "# Ref: https://blog.naver.com/vft1500/221793591386\n",
    "\n",
    "gpus = tf.config.list_physical_devices(\"GPU\")\n",
    "if gpus:\n",
    "    try:\n",
    "    # Currently, memory growth needs to be the same across GPUs\n",
    "        for gpu in gpus:\n",
    "            tf.config.experimental.set_memory_growth(gpu, True)\n",
    "        logical_gpus = tf.config.experimental.list_logical_devices(\"GPU\")\n",
    "        print(f\"{len(gpus)} Physical GPUs, {len(logical_gpus)} Logical GPUs.\")\n",
    "    except RuntimeError as e:\n",
    "        # Memory growth must be set before GPUs have been initialized\n",
    "        print(e)"
   ]
  },
  {
   "cell_type": "code",
   "execution_count": 5,
   "metadata": {},
   "outputs": [
    {
     "name": "stdout",
     "output_type": "stream",
     "text": [
      "Fri Apr 23 07:01:00 2021       \n",
      "+-----------------------------------------------------------------------------+\n",
      "| NVIDIA-SMI 455.32.00    Driver Version: 455.32.00    CUDA Version: 11.1     |\n",
      "|-------------------------------+----------------------+----------------------+\n",
      "| GPU  Name        Persistence-M| Bus-Id        Disp.A | Volatile Uncorr. ECC |\n",
      "| Fan  Temp  Perf  Pwr:Usage/Cap|         Memory-Usage | GPU-Util  Compute M. |\n",
      "|                               |                      |               MIG M. |\n",
      "|===============================+======================+======================|\n",
      "|   0  Graphics Device     On   | 00000000:0A:00.0  On |                  N/A |\n",
      "|  0%   37C    P2    31W / 220W |    731MiB /  7979MiB |     24%      Default |\n",
      "|                               |                      |                  N/A |\n",
      "+-------------------------------+----------------------+----------------------+\n",
      "                                                                               \n",
      "+-----------------------------------------------------------------------------+\n",
      "| Processes:                                                                  |\n",
      "|  GPU   GI   CI        PID   Type   Process name                  GPU Memory |\n",
      "|        ID   ID                                                   Usage      |\n",
      "|=============================================================================|\n",
      "|    0   N/A  N/A       947      G   /usr/lib/xorg/Xorg                 35MiB |\n",
      "|    0   N/A  N/A      1799      G   /usr/lib/xorg/Xorg                108MiB |\n",
      "|    0   N/A  N/A      1931      G   /usr/bin/gnome-shell               29MiB |\n",
      "|    0   N/A  N/A      2653      G   ...AAAAAAAAA= --shared-files      235MiB |\n",
      "|    0   N/A  N/A      3807      G   gnome-control-center                3MiB |\n",
      "|    0   N/A  N/A    104583      C   ...nda3/envs/py36/bin/python      303MiB |\n",
      "+-----------------------------------------------------------------------------+\n"
     ]
    }
   ],
   "source": [
    "!nvidia-smi"
   ]
  },
  {
   "cell_type": "code",
   "execution_count": 6,
   "metadata": {
    "executionInfo": {
     "elapsed": 834,
     "status": "ok",
     "timestamp": 1617070990931,
     "user": {
      "displayName": "Myung-Gyo Oh",
      "photoUrl": "",
      "userId": "01040732127983096879"
     },
     "user_tz": -540
    },
    "id": "8pyR2Wst512Q"
   },
   "outputs": [],
   "source": [
    "class HParams(object):\n",
    "    def __init__(self):\n",
    "        self.dtype = tf.float16 ## mixed precision policy\n",
    "        \n",
    "        self.tr_num = None\n",
    "        self.vl_num = None\n",
    "        self.ts_num = None\n",
    "        \n",
    "        self.steps_per_epoch = None\n",
    "        self.validation_steps = None\n",
    "        self.steps_per_execution = None\n",
    "        \n",
    "        self.d_model = 128\n",
    "        self.num_layers = 4\n",
    "        self.num_heads = 8\n",
    "        self.dff = 512\n",
    "        \n",
    "        self.buffer_size = 20_000\n",
    "        self.global_batch_size = 64\n",
    "        self.auto = tf.data.AUTOTUNE\n",
    "        \n",
    "        self.init_lr = 1e-3\n",
    "        self.min_lr = 1e-5\n",
    "        self.epochs = 20 ## include warmup epochs\n",
    "        self.warmup_epochs = int(np.ceil(self.epochs * 0.2))\n",
    "        self.alpha = 1. / 5\n",
    "\n",
    "HPARAMS = HParams()"
   ]
  },
  {
   "cell_type": "markdown",
   "metadata": {},
   "source": [
    "## **Download Datasets**"
   ]
  },
  {
   "cell_type": "code",
   "execution_count": 7,
   "metadata": {},
   "outputs": [],
   "source": [
    "examples, metadata = tfds.load(\n",
    "    \"ted_hrlr_translate/pt_to_en\", \n",
    "    with_info = True,\n",
    "    as_supervised = True\n",
    ")\n",
    "\n",
    "tr_examples, vl_examples = examples[\"train\"], examples[\"validation\"]"
   ]
  },
  {
   "cell_type": "code",
   "execution_count": 8,
   "metadata": {},
   "outputs": [
    {
     "name": "stdout",
     "output_type": "stream",
     "text": [
      "e quando melhoramos a procura , tiramos a única vantagem da impressão , que é a serendipidade .\n",
      "mas e se estes fatores fossem ativos ?\n",
      "mas eles não tinham a curiosidade de me testar .\n",
      "\n",
      "and when you improve searchability , you actually take away the one advantage of print , which is serendipity .\n",
      "but what if it were active ?\n",
      "but they did n't test for curiosity .\n"
     ]
    }
   ],
   "source": [
    "for pt_examples, en_examples in tr_examples.batch(3).take(1):\n",
    "    for pt in pt_examples.numpy():\n",
    "        print(pt.decode(\"utf-8\"))\n",
    "\n",
    "    print()\n",
    "    \n",
    "    for en in en_examples.numpy():\n",
    "        print(en.decode(\"utf-8\"))"
   ]
  },
  {
   "cell_type": "code",
   "execution_count": 9,
   "metadata": {},
   "outputs": [
    {
     "data": {
      "text/plain": [
       "tfds.core.DatasetInfo(\n",
       "    name='ted_hrlr_translate',\n",
       "    full_name='ted_hrlr_translate/pt_to_en/1.0.0',\n",
       "    description=\"\"\"\n",
       "    Data sets derived from TED talk transcripts for comparing similar language pairs\n",
       "    where one is high resource and the other is low resource.\n",
       "    \"\"\",\n",
       "    config_description=\"\"\"\n",
       "    Translation dataset from pt to en in plain text.\n",
       "    \"\"\",\n",
       "    homepage='https://github.com/neulab/word-embeddings-for-nmt',\n",
       "    data_path='/home/myunggyo/tensorflow_datasets/ted_hrlr_translate/pt_to_en/1.0.0',\n",
       "    download_size=124.94 MiB,\n",
       "    dataset_size=10.89 MiB,\n",
       "    features=Translation({\n",
       "        'en': Text(shape=(), dtype=tf.string),\n",
       "        'pt': Text(shape=(), dtype=tf.string),\n",
       "    }),\n",
       "    supervised_keys=('pt', 'en'),\n",
       "    splits={\n",
       "        'test': <SplitInfo num_examples=1803, num_shards=1>,\n",
       "        'train': <SplitInfo num_examples=51785, num_shards=1>,\n",
       "        'validation': <SplitInfo num_examples=1193, num_shards=1>,\n",
       "    },\n",
       "    citation=\"\"\"@inproceedings{Ye2018WordEmbeddings,\n",
       "      author  = {Ye, Qi and Devendra, Sachan and Matthieu, Felix and Sarguna, Padmanabhan and Graham, Neubig},\n",
       "      title   = {When and Why are pre-trained word embeddings useful for Neural Machine Translation},\n",
       "      booktitle = {HLT-NAACL},\n",
       "      year    = {2018},\n",
       "      }\"\"\",\n",
       ")"
      ]
     },
     "execution_count": 9,
     "metadata": {},
     "output_type": "execute_result"
    }
   ],
   "source": [
    "metadata"
   ]
  },
  {
   "cell_type": "code",
   "execution_count": 10,
   "metadata": {},
   "outputs": [],
   "source": [
    "HPARAMS.tr_num = metadata.splits[\"train\"].num_examples\n",
    "HPARAMS.vl_num = metadata.splits[\"validation\"].num_examples\n",
    "HPARAMS.ts_num = metadata.splits[\"test\"].num_examples"
   ]
  },
  {
   "cell_type": "markdown",
   "metadata": {},
   "source": [
    "## **Tokenizing and De-tokenizing**"
   ]
  },
  {
   "cell_type": "code",
   "execution_count": 11,
   "metadata": {},
   "outputs": [
    {
     "data": {
      "text/plain": [
       "'./ted_hrlr_translate_pt_en_converter.zip'"
      ]
     },
     "execution_count": 11,
     "metadata": {},
     "output_type": "execute_result"
    }
   ],
   "source": [
    "model_name = \"ted_hrlr_translate_pt_en_converter\"\n",
    "tf.keras.utils.get_file(\n",
    "    f\"assets/{model_name}.zip\",\n",
    "    f\"https://storage.googleapis.com/download.tensorflow.org/models/{model_name}.zip\",\n",
    "    cache_dir = \".\", \n",
    "    cache_subdir = \"\", \n",
    "    extract = True,\n",
    ")"
   ]
  },
  {
   "cell_type": "code",
   "execution_count": 12,
   "metadata": {},
   "outputs": [],
   "source": [
    "tokenizers = tf.saved_model.load(model_name)"
   ]
  },
  {
   "cell_type": "code",
   "execution_count": 13,
   "metadata": {},
   "outputs": [
    {
     "data": {
      "text/plain": [
       "['detokenize',\n",
       " 'get_reserved_tokens',\n",
       " 'get_vocab_path',\n",
       " 'get_vocab_size',\n",
       " 'lookup',\n",
       " 'tokenize',\n",
       " 'tokenizer',\n",
       " 'vocab']"
      ]
     },
     "execution_count": 13,
     "metadata": {},
     "output_type": "execute_result"
    }
   ],
   "source": [
    "[item for item in dir(tokenizers.en) if not item.startswith(\"_\")]"
   ]
  },
  {
   "cell_type": "markdown",
   "metadata": {},
   "source": [
    "### **Tokenize**\n",
    "\n",
    "Tokenizer maps string(token) to integer."
   ]
  },
  {
   "cell_type": "code",
   "execution_count": 14,
   "metadata": {},
   "outputs": [
    {
     "name": "stdout",
     "output_type": "stream",
     "text": [
      "and when you improve searchability , you actually take away the one advantage of print , which is serendipity .\n",
      "but what if it were active ?\n",
      "but they did n't test for curiosity .\n"
     ]
    }
   ],
   "source": [
    "for en in en_examples.numpy():\n",
    "    print(en.decode(\"utf-8\"))"
   ]
  },
  {
   "cell_type": "code",
   "execution_count": 15,
   "metadata": {},
   "outputs": [
    {
     "name": "stdout",
     "output_type": "stream",
     "text": [
      "[2, 72, 117, 79, 1259, 1491, 2362, 13, 79, 150, 184, 311, 71, 103, 2308, 74, 2679, 13, 148, 80, 55, 4840, 1434, 2423, 540, 15, 3]\n",
      "[2, 87, 90, 107, 76, 129, 1852, 30, 3]\n",
      "[2, 87, 83, 149, 50, 9, 56, 664, 85, 2512, 15, 3]\n"
     ]
    }
   ],
   "source": [
    "encoded = tokenizers.en.tokenize(en_examples)\n",
    "\n",
    "for row in encoded.to_list():\n",
    "    print(row)"
   ]
  },
  {
   "cell_type": "markdown",
   "metadata": {},
   "source": [
    "### **Detokenize**\n",
    "\n",
    "Detokenizer translate from integer to string that can read."
   ]
  },
  {
   "cell_type": "code",
   "execution_count": 16,
   "metadata": {},
   "outputs": [
    {
     "name": "stdout",
     "output_type": "stream",
     "text": [
      "and when you improve searchability , you actually take away the one advantage of print , which is serendipity .\n",
      "but what if it were active ?\n",
      "but they did n ' t test for curiosity .\n"
     ]
    }
   ],
   "source": [
    "round_trip = tokenizers.en.detokenize(encoded)\n",
    "for line in round_trip.numpy():\n",
    "    print(line.decode(\"utf-8\"))"
   ]
  },
  {
   "cell_type": "code",
   "execution_count": 17,
   "metadata": {},
   "outputs": [
    {
     "data": {
      "text/plain": [
       "<tf.RaggedTensor [[b'[START]', b'and', b'when', b'you', b'improve', b'search', b'##ability', b',', b'you', b'actually', b'take', b'away', b'the', b'one', b'advantage', b'of', b'print', b',', b'which', b'is', b's', b'##ere', b'##nd', b'##ip', b'##ity', b'.', b'[END]'], [b'[START]', b'but', b'what', b'if', b'it', b'were', b'active', b'?', b'[END]'], [b'[START]', b'but', b'they', b'did', b'n', b\"'\", b't', b'test', b'for', b'curiosity', b'.', b'[END]']]>"
      ]
     },
     "execution_count": 17,
     "metadata": {},
     "output_type": "execute_result"
    }
   ],
   "source": [
    "tokens = tokenizers.en.lookup(encoded)\n",
    "tokens"
   ]
  },
  {
   "cell_type": "markdown",
   "metadata": {},
   "source": [
    "## **Build Dataset Pipelines**"
   ]
  },
  {
   "cell_type": "code",
   "execution_count": 18,
   "metadata": {},
   "outputs": [],
   "source": [
    "def tokenize_pairs(pt, en):\n",
    "    pt = tokenizers.pt.tokenize(pt)\n",
    "    # Convert from ragged to dense, padding with zeros.\n",
    "    pt = pt.to_tensor()\n",
    "\n",
    "    en = tokenizers.en.tokenize(en)\n",
    "    # Convert from ragged to dense, padding with zeros.\n",
    "    en = en.to_tensor()\n",
    "    return pt, en"
   ]
  },
  {
   "cell_type": "code",
   "execution_count": 19,
   "metadata": {},
   "outputs": [
    {
     "name": "stdout",
     "output_type": "stream",
     "text": [
      "Global batch size: 64\n",
      "\n",
      "Steps per epoch     : 810.0 (51840.0 batches)\n",
      "Validation steps    : 19.0 (1216.0 batches)\n",
      "Steps per execution : 16\n",
      "\n",
      "tr_batches.element_spec: (TensorSpec(shape=(None, None), dtype=tf.int64, name=None), TensorSpec(shape=(None, None), dtype=tf.int64, name=None))\n",
      "vl_batches.element_spec: (TensorSpec(shape=(None, None), dtype=tf.int64, name=None), TensorSpec(shape=(None, None), dtype=tf.int64, name=None))\n"
     ]
    }
   ],
   "source": [
    "def make_batches(ds):\n",
    "    return (\n",
    "        ds\n",
    "        .cache()\n",
    "        .repeat()\n",
    "        .shuffle(HPARAMS.buffer_size)\n",
    "        .batch(HPARAMS.global_batch_size)\n",
    "        .map(tokenize_pairs, num_parallel_calls = HPARAMS.auto)\n",
    "        .prefetch(HPARAMS.auto))\n",
    "\n",
    "\n",
    "tr_batches = make_batches(tr_examples)\n",
    "vl_batches = make_batches(vl_examples)\n",
    "\n",
    "HPARAMS.steps_per_epoch  = np.ceil(HPARAMS.tr_num / HPARAMS.global_batch_size)\n",
    "HPARAMS.validation_steps = np.ceil(HPARAMS.vl_num / HPARAMS.global_batch_size)\n",
    "HPARAMS.steps_per_execution = 16\n",
    "\n",
    "print(f\"Global batch size: {HPARAMS.global_batch_size}\\n\")\n",
    "\n",
    "print(f\"{'Steps per epoch':20s}: {HPARAMS.steps_per_epoch} ({HPARAMS.steps_per_epoch * HPARAMS.global_batch_size} batches)\")\n",
    "print(f\"{'Validation steps':20s}: {HPARAMS.validation_steps} ({HPARAMS.validation_steps * HPARAMS.global_batch_size} batches)\")\n",
    "print(f\"{'Steps per execution':20s}: {HPARAMS.steps_per_execution}\\n\")\n",
    "\n",
    "print(f\"tr_batches.element_spec: {tr_batches.element_spec}\")\n",
    "print(f\"vl_batches.element_spec: {vl_batches.element_spec}\")"
   ]
  },
  {
   "cell_type": "markdown",
   "metadata": {
    "id": "hiCIeuWj5uyY"
   },
   "source": [
    "## **Modeling**"
   ]
  },
  {
   "cell_type": "markdown",
   "metadata": {
    "id": "pJNGViNJ8VEf"
   },
   "source": [
    "### **Positional Encoding**"
   ]
  },
  {
   "cell_type": "code",
   "execution_count": 20,
   "metadata": {},
   "outputs": [],
   "source": [
    "def get_angles(pos, i, d_model):\n",
    "    angle_rates = 1 / np.power(10000, (2 * (i//2)) / np.float16(d_model))\n",
    "    return pos * angle_rates"
   ]
  },
  {
   "cell_type": "code",
   "execution_count": 21,
   "metadata": {
    "executionInfo": {
     "elapsed": 795,
     "status": "ok",
     "timestamp": 1617075598860,
     "user": {
      "displayName": "Myung-Gyo Oh",
      "photoUrl": "",
      "userId": "01040732127983096879"
     },
     "user_tz": -540
    },
    "id": "v2CzYKh48VBx"
   },
   "outputs": [],
   "source": [
    "def positional_encoding(position, d_model):\n",
    "    angle_rads = get_angles(np.arange(position)[:, np.newaxis],\n",
    "                            np.arange(d_model)[np.newaxis, :],\n",
    "                            d_model)\n",
    "\n",
    "    # apply sin to even indices in the array; 2i\n",
    "    angle_rads[:, 0::2] = np.sin(angle_rads[:, 0::2])\n",
    "\n",
    "    # apply cos to odd indices in the array; 2i+1\n",
    "    angle_rads[:, 1::2] = np.cos(angle_rads[:, 1::2])\n",
    "\n",
    "    pos_encoding = angle_rads[np.newaxis, ...]\n",
    "\n",
    "    return tf.cast(pos_encoding, dtype = HPARAMS.dtype)"
   ]
  },
  {
   "cell_type": "code",
   "execution_count": 22,
   "metadata": {
    "colab": {
     "base_uri": "https://localhost:8080/",
     "height": 302
    },
    "executionInfo": {
     "elapsed": 1127,
     "status": "ok",
     "timestamp": 1617071419468,
     "user": {
      "displayName": "Myung-Gyo Oh",
      "photoUrl": "",
      "userId": "01040732127983096879"
     },
     "user_tz": -540
    },
    "id": "i2Q51yHI8U-v",
    "outputId": "631d3909-ac57-468b-9da6-1d1495d41eac"
   },
   "outputs": [
    {
     "name": "stdout",
     "output_type": "stream",
     "text": [
      "(1, 2048, 512)\n"
     ]
    },
    {
     "data": {
      "image/png": "[encoded data removed]",
      "text/plain": [
       "<Figure size 432x288 with 2 Axes>"
      ]
     },
     "metadata": {
      "needs_background": "light"
     },
     "output_type": "display_data"
    }
   ],
   "source": [
    "n, d = 2048, 512\n",
    "pos_encoding = positional_encoding(n, d)\n",
    "print(pos_encoding.shape)\n",
    "pos_encoding = pos_encoding[0]\n",
    "\n",
    "# Juggle the dimensions for the plot\n",
    "pos_encoding = tf.reshape(pos_encoding, (n, d//2, 2))\n",
    "pos_encoding = tf.transpose(pos_encoding, (2, 1, 0))\n",
    "pos_encoding = tf.reshape(pos_encoding, (d, n))\n",
    "\n",
    "plt.pcolormesh(pos_encoding, cmap='RdBu')\n",
    "plt.ylabel('Depth')\n",
    "plt.xlabel('Position')\n",
    "plt.colorbar()\n",
    "plt.show()"
   ]
  },
  {
   "cell_type": "markdown",
   "metadata": {
    "id": "Kgkiqy63FXxz"
   },
   "source": [
    "### **Masking**\n",
    "\n",
    "Mask added (zero) padding to maintain the length of sequences."
   ]
  },
  {
   "cell_type": "code",
   "execution_count": 23,
   "metadata": {
    "executionInfo": {
     "elapsed": 866,
     "status": "ok",
     "timestamp": 1617073542771,
     "user": {
      "displayName": "Myung-Gyo Oh",
      "photoUrl": "",
      "userId": "01040732127983096879"
     },
     "user_tz": -540
    },
    "id": "ZJelbblEFXvT"
   },
   "outputs": [],
   "source": [
    "def create_padding_mask(x):\n",
    "    mask = tf.cast(tf.math.equal(x, 0), dtype = HPARAMS.dtype)\n",
    "    return mask[:, tf.newaxis, tf.newaxis, :]"
   ]
  },
  {
   "cell_type": "code",
   "execution_count": 24,
   "metadata": {
    "colab": {
     "base_uri": "https://localhost:8080/"
    },
    "executionInfo": {
     "elapsed": 851,
     "status": "ok",
     "timestamp": 1617073551130,
     "user": {
      "displayName": "Myung-Gyo Oh",
      "photoUrl": "",
      "userId": "01040732127983096879"
     },
     "user_tz": -540
    },
    "id": "dyHQrMAMFXsD",
    "outputId": "6e0efd59-1e5c-428b-8b21-c14b71aeaa82"
   },
   "outputs": [
    {
     "name": "stdout",
     "output_type": "stream",
     "text": [
      "tf.Tensor(\n",
      "[[[[0. 0. 1. 1. 0.]]]\n",
      "\n",
      "\n",
      " [[[0. 0. 0. 1. 1.]]]\n",
      "\n",
      "\n",
      " [[[1. 1. 1. 0. 0.]]]], shape=(3, 1, 1, 5), dtype=float16)\n"
     ]
    }
   ],
   "source": [
    "print(create_padding_mask(\n",
    "    tf.constant([[7, 6, 0, 0, 1], \n",
    "                 [1, 2, 3, 0, 0], \n",
    "                 [0, 0, 0, 4, 5]])))"
   ]
  },
  {
   "cell_type": "markdown",
   "metadata": {
    "id": "gkQUcKxfJLdN"
   },
   "source": [
    "### **Look-ahead mask**\n",
    "\n",
    "Mask future tokens."
   ]
  },
  {
   "cell_type": "code",
   "execution_count": 25,
   "metadata": {
    "executionInfo": {
     "elapsed": 1301,
     "status": "ok",
     "timestamp": 1617074469826,
     "user": {
      "displayName": "Myung-Gyo Oh",
      "photoUrl": "",
      "userId": "01040732127983096879"
     },
     "user_tz": -540
    },
    "id": "IoH96k9bJLaU"
   },
   "outputs": [],
   "source": [
    "def create_look_ahead_mask(size):\n",
    "    return tf.cast(1 - tf.linalg.band_part(tf.ones((size, size)), -1, 0), dtype = HPARAMS.dtype)"
   ]
  },
  {
   "cell_type": "code",
   "execution_count": 26,
   "metadata": {
    "colab": {
     "base_uri": "https://localhost:8080/"
    },
    "executionInfo": {
     "elapsed": 1411,
     "status": "ok",
     "timestamp": 1617074472047,
     "user": {
      "displayName": "Myung-Gyo Oh",
      "photoUrl": "",
      "userId": "01040732127983096879"
     },
     "user_tz": -540
    },
    "id": "i33DqyIiJLX8",
    "outputId": "12b44e49-f406-4468-fa9c-a6899816558f"
   },
   "outputs": [
    {
     "name": "stdout",
     "output_type": "stream",
     "text": [
      "tf.Tensor(\n",
      "[[0. 1. 1.]\n",
      " [0. 0. 1.]\n",
      " [0. 0. 0.]], shape=(3, 3), dtype=float16)\n"
     ]
    }
   ],
   "source": [
    "print(create_look_ahead_mask(\n",
    "    tf.random.uniform((1, 3)).shape[1]))"
   ]
  },
  {
   "cell_type": "markdown",
   "metadata": {
    "id": "CAq7-HMn8U1c"
   },
   "source": [
    "### **Scaled Dot-Product Attention**\n",
    "\n",
    "<img width=\"80%\" src=\"https://github.com/cawandmilk/paper-implementation/blob/master/papers/%5B021%5D%20Attention%20Is%20All%20You%20Need/assets/scaled_attention.png\"/>"
   ]
  },
  {
   "cell_type": "code",
   "execution_count": 27,
   "metadata": {
    "executionInfo": {
     "elapsed": 831,
     "status": "ok",
     "timestamp": 1617072427413,
     "user": {
      "displayName": "Myung-Gyo Oh",
      "photoUrl": "",
      "userId": "01040732127983096879"
     },
     "user_tz": -540
    },
    "id": "TnfuPSTUA8lG"
   },
   "outputs": [],
   "source": [
    "def scaled_dot_product_attention(query, key, value, mask):\n",
    "    ## Attention score matrix\n",
    "    matmul_qk = tf.matmul(query, key, transpose_b = True)\n",
    "\n",
    "    ## Scaling\n",
    "    depth = tf.cast(tf.shape(key)[-1], dtype = HPARAMS.dtype)\n",
    "    logits = matmul_qk / tf.math.sqrt(depth)\n",
    "\n",
    "    ## Put a very small negative value in the masking position of the attention score matrix.\n",
    "    ## Since it is a very small value, the value of the corresponding position in the matrix\n",
    "    ## becomes 0 after passing the softmax function.\n",
    "    if mask is not None:\n",
    "        logits += (mask * -1e9)\n",
    "\n",
    "    ## The softmax function is executed in the direction of the sentence length of key, which is the last dimension.\n",
    "    ## attention weight: (batch_size, num_heads, length of query sentence, length of key sentence)\n",
    "    attention_weights = tf.nn.softmax(logits, axis = -1)\n",
    "\n",
    "    ## output : (batch_size, num_heads, query의 문장 길이, d_model/num_heads)\n",
    "    output = tf.matmul(attention_weights, value)\n",
    "\n",
    "    return output, attention_weights"
   ]
  },
  {
   "cell_type": "code",
   "execution_count": 28,
   "metadata": {},
   "outputs": [],
   "source": [
    "def print_out(q, k, v):\n",
    "    temp_out, temp_attn = scaled_dot_product_attention(q, k, v, None)\n",
    "    print(f\"{'Attention weights are':25s}: {temp_attn}\")\n",
    "    print(f\"{'Output is':25s}: {temp_out}\")"
   ]
  },
  {
   "cell_type": "code",
   "execution_count": 29,
   "metadata": {
    "executionInfo": {
     "elapsed": 895,
     "status": "ok",
     "timestamp": 1617072462948,
     "user": {
      "displayName": "Myung-Gyo Oh",
      "photoUrl": "",
      "userId": "01040732127983096879"
     },
     "user_tz": -540
    },
    "id": "7PEx6PJDA8ih"
   },
   "outputs": [
    {
     "name": "stdout",
     "output_type": "stream",
     "text": [
      "Attention weights are    : [[0. 1. 0. 0.]]\n",
      "Output is                : [[10.  0.]]\n"
     ]
    }
   ],
   "source": [
    "np.set_printoptions(suppress=True)\n",
    "temp_k = tf.constant([[10,0,0],\n",
    "                      [0,10,0],\n",
    "                      [0,0,10],\n",
    "                      [0,0,10]], dtype = HPARAMS.dtype)  # (4, 3)\n",
    "\n",
    "temp_v = tf.constant([[   1,0],\n",
    "                      [  10,0],\n",
    "                      [ 100,5],\n",
    "                      [1000,6]], dtype = HPARAMS.dtype)  # (4, 2)\n",
    "temp_q = tf.constant([[0, 10, 0]], dtype = HPARAMS.dtype)  # (1, 3)\n",
    "\n",
    "print_out(temp_q, temp_k, temp_v)"
   ]
  },
  {
   "cell_type": "code",
   "execution_count": 30,
   "metadata": {
    "colab": {
     "base_uri": "https://localhost:8080/"
    },
    "executionInfo": {
     "elapsed": 969,
     "status": "ok",
     "timestamp": 1617072475775,
     "user": {
      "displayName": "Myung-Gyo Oh",
      "photoUrl": "",
      "userId": "01040732127983096879"
     },
     "user_tz": -540
    },
    "id": "i5j0BExdA8fm",
    "outputId": "fd99435c-9ad1-47ff-8507-3df50a43a455"
   },
   "outputs": [
    {
     "name": "stdout",
     "output_type": "stream",
     "text": [
      "Attention weights are    : [[0.  0.  0.5 0.5]]\n",
      "Output is                : [[550.    5.5]]\n"
     ]
    }
   ],
   "source": [
    "temp_q = tf.constant([[0, 0, 10]], dtype = HPARAMS.dtype)  # (1, 3)\n",
    "print_out(temp_q, temp_k, temp_v)"
   ]
  },
  {
   "cell_type": "code",
   "execution_count": 31,
   "metadata": {
    "colab": {
     "base_uri": "https://localhost:8080/"
    },
    "executionInfo": {
     "elapsed": 844,
     "status": "ok",
     "timestamp": 1617072547351,
     "user": {
      "displayName": "Myung-Gyo Oh",
      "photoUrl": "",
      "userId": "01040732127983096879"
     },
     "user_tz": -540
    },
    "id": "JZMrIDJmA8dC",
    "outputId": "48b9e509-30cd-4ff0-f94e-1c976023043e"
   },
   "outputs": [
    {
     "name": "stdout",
     "output_type": "stream",
     "text": [
      "Attention weights are    : [[0.5 0.5 0.  0. ]]\n",
      "Output is                : [[5.5 0. ]]\n"
     ]
    }
   ],
   "source": [
    "# This query aligns equally with the first and second key,\n",
    "# so their values get averaged.\n",
    "temp_q = tf.constant([[10, 10, 0]], dtype = HPARAMS.dtype)  # (1, 3)\n",
    "print_out(temp_q, temp_k, temp_v)"
   ]
  },
  {
   "cell_type": "code",
   "execution_count": 32,
   "metadata": {
    "colab": {
     "base_uri": "https://localhost:8080/"
    },
    "executionInfo": {
     "elapsed": 854,
     "status": "ok",
     "timestamp": 1617072581944,
     "user": {
      "displayName": "Myung-Gyo Oh",
      "photoUrl": "",
      "userId": "01040732127983096879"
     },
     "user_tz": -540
    },
    "id": "5LCNnPQEA8aA",
    "outputId": "7a82eb34-cc9e-4d59-ea93-70a056d80201"
   },
   "outputs": [
    {
     "name": "stdout",
     "output_type": "stream",
     "text": [
      "Attention weights are    : [[0.  0.  0.5 0.5]\n",
      " [0.  1.  0.  0. ]\n",
      " [0.5 0.5 0.  0. ]]\n",
      "Output is                : [[550.    5.5]\n",
      " [ 10.    0. ]\n",
      " [  5.5   0. ]]\n"
     ]
    }
   ],
   "source": [
    "temp_q = tf.constant([[0, 0, 10],\n",
    "                      [0, 10, 0],\n",
    "                      [10, 10, 0]], dtype = HPARAMS.dtype)  # (3, 3)\n",
    "print_out(temp_q, temp_k, temp_v)"
   ]
  },
  {
   "cell_type": "markdown",
   "metadata": {
    "id": "4fqaAErmDCFT"
   },
   "source": [
    "### **Multi-head Attention**\n",
    "\n",
    "<img width=\"80%\" src=\"https://github.com/cawandmilk/paper-implementation/blob/master/papers/%5B021%5D%20Attention%20Is%20All%20You%20Need/assets/multi_head_attention.png\"/>"
   ]
  },
  {
   "cell_type": "code",
   "execution_count": 33,
   "metadata": {
    "executionInfo": {
     "elapsed": 911,
     "status": "ok",
     "timestamp": 1617073370486,
     "user": {
      "displayName": "Myung-Gyo Oh",
      "photoUrl": "",
      "userId": "01040732127983096879"
     },
     "user_tz": -540
    },
    "id": "vGrgCd69A8XQ"
   },
   "outputs": [],
   "source": [
    "class MultiHeadAttention(tf.keras.layers.Layer):\n",
    "    def __init__(self, d_model, num_heads, name = \"multi_head_attention\"):\n",
    "        super(MultiHeadAttention, self).__init__(name = name)\n",
    "        self.num_heads = num_heads\n",
    "        self.d_model = d_model\n",
    "\n",
    "        assert d_model % self.num_heads == 0\n",
    "\n",
    "        self.depth = d_model // self.num_heads ## 64\n",
    "\n",
    "        ## Dense layer definition corresponding to W_Q, W_K, and W_V.\n",
    "        self.query_dense = tf.keras.layers.Dense(units = d_model)\n",
    "        self.key_dense   = tf.keras.layers.Dense(units = d_model)\n",
    "        self.value_dense = tf.keras.layers.Dense(units = d_model)\n",
    "\n",
    "        ## Definition of dense layer corresponding to W_O. \n",
    "        self.dense = tf.keras.layers.Dense(units = d_model)\n",
    "\n",
    "    ## A function that splits q, k, v by the number of num_heads.\n",
    "    def split_heads(self, inputs, batch_size):\n",
    "        inputs = tf.reshape(inputs, shape = (batch_size, -1, self.num_heads, self.depth))\n",
    "        return tf.transpose(inputs, perm = [0, 2, 1, 3])\n",
    "\n",
    "    def call(self, value, key, query, mask):\n",
    "        batch_size = tf.shape(query)[0]\n",
    "\n",
    "        ## 1. Passing through dense layers corresponding to WQ, WK, and WV\n",
    "        query = self.query_dense(query)\n",
    "        key   = self.key_dense(key)\n",
    "        value = self.value_dense(value)\n",
    "\n",
    "        ## 2. Split heads.\n",
    "        query = self.split_heads(query, batch_size)\n",
    "        key   = self.split_heads(key, batch_size)\n",
    "        value = self.split_heads(value, batch_size)\n",
    "\n",
    "        ## 3. Scaled dot-product attention.\n",
    "        scaled_attention, attention_weights = scaled_dot_product_attention(query, key, value, mask) ## no attention weights\n",
    "        scaled_attention = tf.transpose(scaled_attention, perm = [0, 2, 1, 3])\n",
    "\n",
    "        ## 4. Concat all heads.\n",
    "        concat_attention = tf.reshape(scaled_attention, (batch_size, -1, self.d_model))\n",
    "\n",
    "        ## 5. Passing through the dense layer corresponding to W_O.\n",
    "        outputs = self.dense(concat_attention)\n",
    "\n",
    "        return outputs, attention_weights"
   ]
  },
  {
   "cell_type": "code",
   "execution_count": 34,
   "metadata": {},
   "outputs": [
    {
     "data": {
      "text/plain": [
       "(TensorShape([1, 60, 512]), TensorShape([1, 8, 60, 60]))"
      ]
     },
     "execution_count": 34,
     "metadata": {},
     "output_type": "execute_result"
    }
   ],
   "source": [
    "temp_mha = MultiHeadAttention(d_model = 512, num_heads = 8)\n",
    "y = tf.random.uniform((1, 60, 512))  # (batch_size, encoder_sequence, d_model)\n",
    "out, attn = temp_mha(y, key = y, query = y, mask = None)\n",
    "out.shape, attn.shape"
   ]
  },
  {
   "cell_type": "markdown",
   "metadata": {},
   "source": [
    "### **Pointwise Feed Foward Network**"
   ]
  },
  {
   "cell_type": "code",
   "execution_count": 35,
   "metadata": {},
   "outputs": [],
   "source": [
    "def point_wise_feed_forward_network(d_model, dff):\n",
    "    return tf.keras.Sequential([\n",
    "        tf.keras.layers.Dense(dff, activation = \"relu\"),  # (batch_size, seq_len, dff)\n",
    "        tf.keras.layers.Dense(d_model)  # (batch_size, seq_len, d_model)\n",
    "    ])"
   ]
  },
  {
   "cell_type": "code",
   "execution_count": 36,
   "metadata": {},
   "outputs": [
    {
     "data": {
      "text/plain": [
       "TensorShape([64, 50, 512])"
      ]
     },
     "execution_count": 36,
     "metadata": {},
     "output_type": "execute_result"
    }
   ],
   "source": [
    "sample_ffn = point_wise_feed_forward_network(512, 2048)\n",
    "sample_ffn(tf.random.uniform((64, 50, 512))).shape"
   ]
  },
  {
   "cell_type": "markdown",
   "metadata": {
    "id": "6jpueCLGA8Uf"
   },
   "source": [
    "### **Encoder & Decoder Layer**\n",
    "\n",
    "<img width=\"80%\" src=\"https://github.com/cawandmilk/paper-implementation/blob/master/papers/%5B021%5D%20Attention%20Is%20All%20You%20Need/assets/transformer.png\"/>"
   ]
  },
  {
   "cell_type": "code",
   "execution_count": 37,
   "metadata": {
    "executionInfo": {
     "elapsed": 1310,
     "status": "ok",
     "timestamp": 1617074139144,
     "user": {
      "displayName": "Myung-Gyo Oh",
      "photoUrl": "",
      "userId": "01040732127983096879"
     },
     "user_tz": -540
    },
    "id": "MZ4dYNibHFPv"
   },
   "outputs": [],
   "source": [
    "class EncoderLayer(tf.keras.layers.Layer):\n",
    "    def __init__(self, d_model, num_heads, dff, rate = 0.1):\n",
    "        super(EncoderLayer, self).__init__()\n",
    "\n",
    "        self.mha = MultiHeadAttention(d_model, num_heads)\n",
    "        self.ffn = point_wise_feed_forward_network(d_model, dff)\n",
    "\n",
    "        self.layernorm1 = tf.keras.layers.LayerNormalization(epsilon = 1e-6)\n",
    "        self.layernorm2 = tf.keras.layers.LayerNormalization(epsilon = 1e-6)\n",
    "\n",
    "        self.dropout1 = tf.keras.layers.Dropout(rate)\n",
    "        self.dropout2 = tf.keras.layers.Dropout(rate)\n",
    "\n",
    "    def call(self, x, training, mask):\n",
    "        attn_output, _ = self.mha(x, x, x, mask)  # (batch_size, input_seq_len, d_model)\n",
    "        attn_output = self.dropout1(attn_output, training = training)\n",
    "        out1 = self.layernorm1(x + attn_output)  # (batch_size, input_seq_len, d_model)\n",
    "\n",
    "        ffn_output = self.ffn(out1)  # (batch_size, input_seq_len, d_model)\n",
    "        ffn_output = self.dropout2(ffn_output, training = training)\n",
    "        out2 = self.layernorm2(out1 + ffn_output)  # (batch_size, input_seq_len, d_model)\n",
    "\n",
    "        return out2"
   ]
  },
  {
   "cell_type": "code",
   "execution_count": 38,
   "metadata": {},
   "outputs": [
    {
     "data": {
      "text/plain": [
       "TensorShape([64, 43, 512])"
      ]
     },
     "execution_count": 38,
     "metadata": {},
     "output_type": "execute_result"
    }
   ],
   "source": [
    "sample_encoder_layer_output = EncoderLayer(\n",
    "    512, 8, 2048\n",
    ")(tf.random.uniform((64, 43, 512)), False, None)\n",
    "\n",
    "sample_encoder_layer_output.shape  # (batch_size, input_seq_len, d_model)"
   ]
  },
  {
   "cell_type": "code",
   "execution_count": 39,
   "metadata": {
    "executionInfo": {
     "elapsed": 972,
     "status": "ok",
     "timestamp": 1617074810208,
     "user": {
      "displayName": "Myung-Gyo Oh",
      "photoUrl": "",
      "userId": "01040732127983096879"
     },
     "user_tz": -540
    },
    "id": "Vao3qLKdHFG8"
   },
   "outputs": [],
   "source": [
    "class DecoderLayer(tf.keras.layers.Layer):\n",
    "    def __init__(self, d_model, num_heads, dff, rate = 0.1):\n",
    "        super(DecoderLayer, self).__init__()\n",
    "\n",
    "        self.mha1 = MultiHeadAttention(d_model, num_heads)\n",
    "        self.mha2 = MultiHeadAttention(d_model, num_heads)\n",
    "\n",
    "        self.ffn = point_wise_feed_forward_network(d_model, dff)\n",
    "\n",
    "        self.layernorm1 = tf.keras.layers.LayerNormalization(epsilon = 1e-6)\n",
    "        self.layernorm2 = tf.keras.layers.LayerNormalization(epsilon = 1e-6)\n",
    "        self.layernorm3 = tf.keras.layers.LayerNormalization(epsilon = 1e-6)\n",
    "\n",
    "        self.dropout1 = tf.keras.layers.Dropout(rate)\n",
    "        self.dropout2 = tf.keras.layers.Dropout(rate)\n",
    "        self.dropout3 = tf.keras.layers.Dropout(rate)\n",
    "\n",
    "    def call(self, x, enc_output, training,\n",
    "             look_ahead_mask, padding_mask):\n",
    "        # enc_output.shape == (batch_size, input_seq_len, d_model)\n",
    "\n",
    "        attn1, attn_weights_block1 = self.mha1(x, x, x, look_ahead_mask)  # (batch_size, target_seq_len, d_model)\n",
    "        attn1 = self.dropout1(attn1, training = training)\n",
    "        out1 = self.layernorm1(attn1 + x)\n",
    "\n",
    "        attn2, attn_weights_block2 = self.mha2(\n",
    "            enc_output, enc_output, out1, padding_mask)  # (batch_size, target_seq_len, d_model)\n",
    "        attn2 = self.dropout2(attn2, training = training)\n",
    "        out2 = self.layernorm2(attn2 + out1)  # (batch_size, target_seq_len, d_model)\n",
    "\n",
    "        ffn_output = self.ffn(out2)  # (batch_size, target_seq_len, d_model)\n",
    "        ffn_output = self.dropout3(ffn_output, training = training)\n",
    "        out3 = self.layernorm3(ffn_output + out2)  # (batch_size, target_seq_len, d_model)\n",
    "\n",
    "        return out3, attn_weights_block1, attn_weights_block2"
   ]
  },
  {
   "cell_type": "code",
   "execution_count": 40,
   "metadata": {},
   "outputs": [
    {
     "data": {
      "text/plain": [
       "TensorShape([64, 50, 512])"
      ]
     },
     "execution_count": 40,
     "metadata": {},
     "output_type": "execute_result"
    }
   ],
   "source": [
    "sample_decoder_layer = DecoderLayer(512, 8, 2048)\n",
    "\n",
    "sample_decoder_layer_output, _, _ = sample_decoder_layer(\n",
    "    tf.random.uniform((64, 50, 512)), sample_encoder_layer_output,\n",
    "    False, None, None)\n",
    "\n",
    "sample_decoder_layer_output.shape  # (batch_size, target_seq_len, d_model)"
   ]
  },
  {
   "cell_type": "markdown",
   "metadata": {
    "id": "nD7BY_2-HFJ6"
   },
   "source": [
    "### **Encoder & Decoder**"
   ]
  },
  {
   "cell_type": "code",
   "execution_count": 41,
   "metadata": {
    "executionInfo": {
     "elapsed": 956,
     "status": "ok",
     "timestamp": 1617074286889,
     "user": {
      "displayName": "Myung-Gyo Oh",
      "photoUrl": "",
      "userId": "01040732127983096879"
     },
     "user_tz": -540
    },
    "id": "_B0MpKqqHFM1"
   },
   "outputs": [],
   "source": [
    "class Encoder(tf.keras.layers.Layer):\n",
    "    def __init__(self, num_layers, d_model, num_heads, dff, input_vocab_size,\n",
    "                 maximum_position_encoding, rate = 0.1):\n",
    "        super(Encoder, self).__init__()\n",
    "\n",
    "        self.d_model = d_model\n",
    "        self.num_layers = num_layers\n",
    "\n",
    "        self.embedding = tf.keras.layers.Embedding(input_vocab_size, d_model)\n",
    "        self.pos_encoding = positional_encoding(maximum_position_encoding,\n",
    "                                                self.d_model)\n",
    "\n",
    "        self.enc_layers = [EncoderLayer(d_model, num_heads, dff, rate)\n",
    "                           for _ in range(num_layers)]\n",
    "\n",
    "        self.dropout = tf.keras.layers.Dropout(rate)\n",
    "\n",
    "    def call(self, x, training, mask):\n",
    "        seq_len = tf.shape(x)[1]\n",
    "\n",
    "        # adding embedding and position encoding.\n",
    "        x = self.embedding(x)  # (batch_size, input_seq_len, d_model)\n",
    "        x *= tf.math.sqrt(tf.cast(self.d_model, dtype = HPARAMS.dtype))\n",
    "        x += self.pos_encoding[:, :seq_len, :]\n",
    "\n",
    "        x = self.dropout(x, training = training)\n",
    "\n",
    "        for i in range(self.num_layers):\n",
    "            x = self.enc_layers[i](x, training, mask)\n",
    "\n",
    "        return x  # (batch_size, input_seq_len, d_model)"
   ]
  },
  {
   "cell_type": "code",
   "execution_count": 42,
   "metadata": {},
   "outputs": [
    {
     "name": "stdout",
     "output_type": "stream",
     "text": [
      "(64, 62, 512)\n"
     ]
    }
   ],
   "source": [
    "sample_encoder = Encoder(num_layers=2, d_model=512, num_heads=8,\n",
    "                         dff=2048, input_vocab_size=8500,\n",
    "                         maximum_position_encoding=10000)\n",
    "temp_input = tf.random.uniform((64, 62), dtype=tf.int64, minval=0, maxval=200)\n",
    "\n",
    "sample_encoder_output = sample_encoder(temp_input, training=False, mask=None)\n",
    "\n",
    "print(sample_encoder_output.shape)  # (batch_size, input_seq_len, d_model)"
   ]
  },
  {
   "cell_type": "code",
   "execution_count": 43,
   "metadata": {
    "executionInfo": {
     "elapsed": 856,
     "status": "ok",
     "timestamp": 1617074969003,
     "user": {
      "displayName": "Myung-Gyo Oh",
      "photoUrl": "",
      "userId": "01040732127983096879"
     },
     "user_tz": -540
    },
    "id": "g-oqmnxNHFD5"
   },
   "outputs": [],
   "source": [
    "class Decoder(tf.keras.layers.Layer):\n",
    "    def __init__(self, num_layers, d_model, num_heads, dff, target_vocab_size,\n",
    "                 maximum_position_encoding, rate = 0.1):\n",
    "        super(Decoder, self).__init__()\n",
    "\n",
    "        self.d_model = d_model\n",
    "        self.num_layers = num_layers\n",
    "\n",
    "        self.embedding = tf.keras.layers.Embedding(target_vocab_size, d_model)\n",
    "        self.pos_encoding = positional_encoding(maximum_position_encoding, d_model)\n",
    "\n",
    "        self.dec_layers = [DecoderLayer(d_model, num_heads, dff, rate)\n",
    "                           for _ in range(num_layers)]\n",
    "        self.dropout = tf.keras.layers.Dropout(rate)\n",
    "\n",
    "    def call(self, x, enc_output, training,\n",
    "             look_ahead_mask, padding_mask):\n",
    "\n",
    "        seq_len = tf.shape(x)[1]\n",
    "        attention_weights = {}\n",
    "\n",
    "        x = self.embedding(x)  # (batch_size, target_seq_len, d_model)\n",
    "        x *= tf.math.sqrt(tf.cast(self.d_model, dtype = HPARAMS.dtype))\n",
    "        x += self.pos_encoding[:, :seq_len, :]\n",
    "\n",
    "        x = self.dropout(x, training=training)\n",
    "\n",
    "        for i in range(self.num_layers):\n",
    "            x, block1, block2 = self.dec_layers[i](x, enc_output, training,\n",
    "                                                   look_ahead_mask, padding_mask)\n",
    "\n",
    "            attention_weights[f\"decoder_layer{i+1}_block1\"] = block1\n",
    "            attention_weights[f\"decoder_layer{i+1}_block2\"] = block2\n",
    "\n",
    "        # x.shape == (batch_size, target_seq_len, d_model)\n",
    "        return x, attention_weights"
   ]
  },
  {
   "cell_type": "code",
   "execution_count": 44,
   "metadata": {},
   "outputs": [
    {
     "data": {
      "text/plain": [
       "(TensorShape([64, 26, 512]), TensorShape([64, 8, 26, 62]))"
      ]
     },
     "execution_count": 44,
     "metadata": {},
     "output_type": "execute_result"
    }
   ],
   "source": [
    "sample_decoder = Decoder(num_layers=2, d_model=512, num_heads=8,\n",
    "                         dff=2048, target_vocab_size=8000,\n",
    "                         maximum_position_encoding=5000)\n",
    "temp_input = tf.random.uniform((64, 26), dtype=tf.int64, minval=0, maxval=200)\n",
    "\n",
    "output, attn = sample_decoder(temp_input,\n",
    "                              enc_output=sample_encoder_output,\n",
    "                              training=False,\n",
    "                              look_ahead_mask=None,\n",
    "                              padding_mask=None)\n",
    "\n",
    "output.shape, attn[\"decoder_layer2_block2\"].shape"
   ]
  },
  {
   "cell_type": "markdown",
   "metadata": {
    "id": "9Isd5UnsLiMT"
   },
   "source": [
    "### **Transformer**"
   ]
  },
  {
   "cell_type": "code",
   "execution_count": 45,
   "metadata": {},
   "outputs": [],
   "source": [
    "def create_masks(inp, tar):\n",
    "    # Encoder padding mask\n",
    "    enc_padding_mask = create_padding_mask(inp)\n",
    "\n",
    "    # Used in the 2nd attention block in the decoder.\n",
    "    # This padding mask is used to mask the encoder outputs.\n",
    "    dec_padding_mask = create_padding_mask(inp)\n",
    "\n",
    "    # Used in the 1st attention block in the decoder.\n",
    "    # It is used to pad and mask future tokens in the input received by\n",
    "    # the decoder.\n",
    "    look_ahead_mask = create_look_ahead_mask(tf.shape(tar)[1])\n",
    "    dec_target_padding_mask = create_padding_mask(tar)\n",
    "    combined_mask = tf.maximum(dec_target_padding_mask, look_ahead_mask)\n",
    "\n",
    "    return enc_padding_mask, combined_mask, dec_padding_mask"
   ]
  },
  {
   "cell_type": "code",
   "execution_count": 46,
   "metadata": {
    "executionInfo": {
     "elapsed": 919,
     "status": "ok",
     "timestamp": 1617075272061,
     "user": {
      "displayName": "Myung-Gyo Oh",
      "photoUrl": "",
      "userId": "01040732127983096879"
     },
     "user_tz": -540
    },
    "id": "0gsbmgDQLiJV"
   },
   "outputs": [],
   "source": [
    "class Transformer(tf.keras.Model):\n",
    "    def __init__(self, num_layers, d_model, num_heads, dff, input_vocab_size,\n",
    "                 target_vocab_size, pe_input, pe_target, rate = 0.1):\n",
    "        super(Transformer, self).__init__()\n",
    "\n",
    "        self.tokenizer = Encoder(num_layers, d_model, num_heads, dff,\n",
    "                                 input_vocab_size, pe_input, rate)\n",
    "\n",
    "        self.decoder = Decoder(num_layers, d_model, num_heads, dff,\n",
    "                               target_vocab_size, pe_target, rate)\n",
    "\n",
    "        self.final_layer = tf.keras.layers.Dense(target_vocab_size)\n",
    "        self.type_casting = tf.keras.layers.Activation(\"linear\", dtype = HPARAMS.dtype)\n",
    "        self.create_masks = create_masks\n",
    "        \n",
    "    \n",
    "    \n",
    "    def call(self, x, training = None):\n",
    "        inp, tar, enc_padding_mask, look_ahead_mask, dec_padding_mask = x ## Unpacking\n",
    "\n",
    "        enc_output = self.tokenizer(inp, training, enc_padding_mask)  # (batch_size, inp_seq_len, d_model)\n",
    "\n",
    "        # dec_output.shape == (batch_size, tar_seq_len, d_model)\n",
    "        dec_output, attention_weights = self.decoder(\n",
    "            tar, enc_output, training, look_ahead_mask, dec_padding_mask)\n",
    "\n",
    "        final_output = self.final_layer(dec_output)  # (batch_size, tar_seq_len, target_vocab_size)\n",
    "        final_output = self.type_casting(final_output)\n",
    "\n",
    "        return final_output, attention_weights\n",
    "    \n",
    "    \n",
    "    @tf.function\n",
    "    def train_step(self, x):\n",
    "        ## Split elements.\n",
    "        inp, tar = x\n",
    "        \n",
    "        tar_inp = tar[:, :-1]\n",
    "        tar_real = tar[:, 1:]\n",
    "\n",
    "        enc_padding_mask, combined_mask, dec_padding_mask = self.create_masks(inp, tar_inp)\n",
    "\n",
    "        with tf.GradientTape() as tape:\n",
    "            predictions, _ = self.call((inp, tar_inp, \n",
    "                                        enc_padding_mask, \n",
    "                                        combined_mask, \n",
    "                                        dec_padding_mask), training = True)\n",
    "            loss_value = self.loss(tar_real, predictions)\n",
    "            scaled_loss = self.optimizer.get_scaled_loss(loss_value)\n",
    "\n",
    "        scaled_gradients = tape.gradient(scaled_loss, self.trainable_variables)\n",
    "        gradients = self.optimizer.get_unscaled_gradients(scaled_gradients)\n",
    "        self.optimizer.apply_gradients(zip(gradients, self.trainable_variables))\n",
    "\n",
    "        self.compiled_metrics.update_state(tar_real, predictions)\n",
    "        \n",
    "        results = {\"loss\": loss_value}\n",
    "        results.update({m.name: m.result() for m in self.metrics})\n",
    "        \n",
    "        return results\n",
    "    \n",
    "    \n",
    "    @tf.function\n",
    "    def test_step(self, x):\n",
    "        ## Split elements.\n",
    "        inp, tar = x\n",
    "        \n",
    "        tar_inp = tar[:, :-1]\n",
    "        tar_real = tar[:, 1:]\n",
    "\n",
    "        enc_padding_mask, combined_mask, dec_padding_mask = create_masks(inp, tar_inp)\n",
    "\n",
    "        predictions, _ = self.call((inp, tar_inp, \n",
    "                                    enc_padding_mask, \n",
    "                                    combined_mask, \n",
    "                                    dec_padding_mask), training = False)\n",
    "        \n",
    "        loss_value = self.loss(tar_real, predictions)\n",
    "\n",
    "        self.compiled_metrics.update_state(tar_real, predictions)\n",
    "        \n",
    "        results = {\"loss\": loss_value}\n",
    "        results.update({m.name: m.result() for m in self.metrics})\n",
    "        \n",
    "        return results"
   ]
  },
  {
   "cell_type": "code",
   "execution_count": 47,
   "metadata": {},
   "outputs": [
    {
     "data": {
      "text/plain": [
       "TensorShape([64, 36, 8000])"
      ]
     },
     "execution_count": 47,
     "metadata": {},
     "output_type": "execute_result"
    }
   ],
   "source": [
    "sample_transformer = Transformer(\n",
    "    num_layers = 2, d_model = 512, num_heads = 8, dff = 2048,\n",
    "    input_vocab_size = 8500, target_vocab_size = 8000,\n",
    "    pe_input = 10000, pe_target = 6000)\n",
    "\n",
    "temp_input = tf.random.uniform((64, 38), dtype=tf.int64, minval = 0, maxval = 200)\n",
    "temp_target = tf.random.uniform((64, 36), dtype=tf.int64, minval = 0, maxval = 200)\n",
    "\n",
    "fn_out, _ = sample_transformer((temp_input, temp_target, None, None, None), training = False)\n",
    "\n",
    "fn_out.shape  # (batch_size, tar_seq_len, target_vocab_size)"
   ]
  },
  {
   "cell_type": "markdown",
   "metadata": {},
   "source": [
    "## **Fit**"
   ]
  },
  {
   "cell_type": "markdown",
   "metadata": {},
   "source": [
    "### **Learning Rate Schedular**"
   ]
  },
  {
   "cell_type": "code",
   "execution_count": 48,
   "metadata": {},
   "outputs": [],
   "source": [
    "class CustomSchedule(tf.keras.optimizers.schedules.LearningRateSchedule):\n",
    "    def __init__(\n",
    "        self, \n",
    "        d_model = HPARAMS.d_model, \n",
    "        warmup_epochs = HPARAMS.warmup_epochs,\n",
    "        init_lr = HPARAMS.init_lr,\n",
    "        min_lr = HPARAMS.min_lr,\n",
    "        alpha = HPARAMS.alpha,\n",
    "    ):\n",
    "        super(CustomSchedule, self).__init__()\n",
    "        \n",
    "        self.d_model = d_model\n",
    "        self.d_model = tf.cast(self.d_model, tf.float32)\n",
    "        \n",
    "        self.warmup_epochs = warmup_epochs\n",
    "        self.init_lr = init_lr\n",
    "        self.min_lr = min_lr\n",
    "        self.alpha = alpha\n",
    "        \n",
    "        self.cosine_decay = tf.keras.experimental.CosineDecay(\n",
    "            initial_learning_rate = self.init_lr,\n",
    "            decay_steps = HPARAMS.epochs - self.warmup_epochs,\n",
    "            alpha = self.alpha,\n",
    "        )\n",
    "\n",
    "    def __call__(\n",
    "        self, \n",
    "        step,\n",
    "    ):\n",
    "        arg1 = (self.init_lr - self.min_lr) * (step + 1) / self.warmup_epochs + self.min_lr\n",
    "        arg2 = self.cosine_decay(step - self.warmup_epochs)\n",
    "\n",
    "        return tf.math.minimum(arg1, arg2)"
   ]
  },
  {
   "cell_type": "code",
   "execution_count": 49,
   "metadata": {},
   "outputs": [
    {
     "data": {
      "image/png": "[encoded data removed]",
      "text/plain": [
       "<Figure size 432x288 with 1 Axes>"
      ]
     },
     "metadata": {
      "needs_background": "light"
     },
     "output_type": "display_data"
    }
   ],
   "source": [
    "temp_learning_rate_schedule = CustomSchedule(HPARAMS.d_model)\n",
    "\n",
    "plt.plot(temp_learning_rate_schedule(tf.range(HPARAMS.epochs, dtype = tf.float32)))\n",
    "plt.ylabel(\"Learning Rate\")\n",
    "plt.xlabel(\"Train Step\")\n",
    "\n",
    "plt.grid(True)\n",
    "plt.tight_layout()\n",
    "plt.show()"
   ]
  },
  {
   "cell_type": "markdown",
   "metadata": {},
   "source": [
    "### **Callbacks**"
   ]
  },
  {
   "cell_type": "code",
   "execution_count": 50,
   "metadata": {},
   "outputs": [],
   "source": [
    "def get_callbacks(\n",
    "    model_name,\n",
    "):    \n",
    "    ## Checkpoint callback.\n",
    "    ckpt_path = Path(f\"ckpt/{model_name}\") / Path(\"cp-{epoch:03d}-{val_loss:.4f}.ckpt\")\n",
    "    ckpt_path.parents[0].mkdir(parents = True, exist_ok = True)\n",
    "\n",
    "    cp_callback = tf.keras.callbacks.ModelCheckpoint(\n",
    "        ckpt_path, \n",
    "        verbose = 0, \n",
    "        monitor = \"val_loss\", \n",
    "        save_weights_only = True, \n",
    "        save_best_only = True,\n",
    "    )\n",
    "\n",
    "    ## Learning rate schedular.\n",
    "    lr_callback = tf.keras.callbacks.LearningRateScheduler(\n",
    "        schedule = CustomSchedule(),\n",
    "        verbose = 0,\n",
    "    )\n",
    "\n",
    "    ## TensorBoard callback.\n",
    "    log_dir = Path(f\"logs/fit/{model_name}\")\n",
    "    log_dir.parents[0].mkdir(parents = True, exist_ok = True)\n",
    "\n",
    "    tb_callback = tf.keras.callbacks.TensorBoard(log_dir = log_dir, histogram_freq = 1)\n",
    "\n",
    "    ## CSV Logger.\n",
    "    filename = Path(f\"logs/csv/{model_name}.csv\")\n",
    "    filename.parents[0].mkdir(parents = True, exist_ok = True)\n",
    "    \n",
    "    lg_callback = tf.keras.callbacks.CSVLogger(filename)\n",
    "\n",
    "    return [cp_callback, lr_callback, tb_callback, lg_callback]"
   ]
  },
  {
   "cell_type": "markdown",
   "metadata": {},
   "source": [
    "### **Loss Function and Metrics**"
   ]
  },
  {
   "cell_type": "code",
   "execution_count": 51,
   "metadata": {},
   "outputs": [],
   "source": [
    "def loss_function(y_true, y_pred):\n",
    "    mask = tf.math.logical_not(tf.math.equal(y_true, 0))\n",
    "    loss_ = tf.keras.losses.sparse_categorical_crossentropy(\n",
    "        y_true, \n",
    "        y_pred, \n",
    "        from_logits = True,\n",
    "    )\n",
    "\n",
    "    mask = tf.cast(mask, dtype = loss_.dtype)\n",
    "    loss_ *= mask\n",
    "\n",
    "    return tf.reduce_sum(loss_) / tf.reduce_sum(mask)\n",
    "\n",
    "\n",
    "def acc(y_true, y_pred):\n",
    "    accuracies = tf.equal(\n",
    "        y_true, \n",
    "        tf.cast(tf.argmax(y_pred, axis = 2), dtype = tf.float32)\n",
    "    )\n",
    "\n",
    "    mask = tf.math.logical_not(tf.math.equal(y_true, 0))\n",
    "    accuracies = tf.math.logical_and(mask, accuracies)\n",
    "\n",
    "    accuracies = tf.cast(accuracies, dtype = tf.float32)\n",
    "    mask = tf.cast(mask, dtype = tf.float32)\n",
    "    return tf.reduce_sum(accuracies) / tf.reduce_sum(mask)"
   ]
  },
  {
   "cell_type": "markdown",
   "metadata": {},
   "source": [
    "## **Train**"
   ]
  },
  {
   "cell_type": "code",
   "execution_count": 52,
   "metadata": {},
   "outputs": [],
   "source": [
    "# !rm -rf logs ckpt"
   ]
  },
  {
   "cell_type": "code",
   "execution_count": 53,
   "metadata": {},
   "outputs": [],
   "source": [
    "transformer = Transformer(\n",
    "    num_layers = HPARAMS.num_layers,\n",
    "    d_model = HPARAMS.d_model,\n",
    "    num_heads = HPARAMS.num_heads,\n",
    "    dff = HPARAMS.dff,\n",
    "    input_vocab_size = tokenizers.pt.get_vocab_size(),\n",
    "    target_vocab_size = tokenizers.en.get_vocab_size(),\n",
    "    pe_input = 1000,\n",
    "    pe_target = 1000,\n",
    ")"
   ]
  },
  {
   "cell_type": "code",
   "execution_count": 54,
   "metadata": {},
   "outputs": [],
   "source": [
    "transformer.compile(\n",
    "    optimizer = tf.keras.mixed_precision.LossScaleOptimizer(\n",
    "        AdaBeliefOptimizer(\n",
    "            HPARAMS.init_lr,\n",
    "            epsilon = 1e-14,\n",
    "            weight_decay = 0,\n",
    "            rectify = False,\n",
    "            print_change_log = False,\n",
    "        )\n",
    "    ),\n",
    "    loss = loss_function,\n",
    "    metrics = [acc],\n",
    "    steps_per_execution = HPARAMS.steps_per_execution,\n",
    ")"
   ]
  },
  {
   "cell_type": "code",
   "execution_count": null,
   "metadata": {},
   "outputs": [
    {
     "name": "stdout",
     "output_type": "stream",
     "text": [
      "Epoch 1/20\n",
      "810/810 - 71s - loss: nan - acc: 0.0000e+00 - val_loss: nan - val_acc: 0.0000e+00\n",
      "Epoch 2/20\n",
      "810/810 - 48s - loss: nan - acc: 0.0000e+00 - val_loss: nan - val_acc: 0.0000e+00\n",
      "Epoch 3/20\n",
      "810/810 - 45s - loss: nan - acc: 0.0000e+00 - val_loss: nan - val_acc: 0.0000e+00\n",
      "Epoch 4/20\n",
      "810/810 - 43s - loss: nan - acc: 0.0000e+00 - val_loss: nan - val_acc: 0.0000e+00\n",
      "Epoch 5/20\n",
      "810/810 - 45s - loss: nan - acc: 0.0000e+00 - val_loss: nan - val_acc: 0.0000e+00\n",
      "Epoch 6/20\n"
     ]
    }
   ],
   "source": [
    "_ = transformer.fit(\n",
    "    tr_batches,\n",
    "    validation_data = vl_batches,\n",
    "    steps_per_epoch = HPARAMS.steps_per_epoch,\n",
    "    validation_steps = HPARAMS.validation_steps,\n",
    "    epochs = HPARAMS.epochs,\n",
    "    verbose = 2,\n",
    "    callbacks = get_callbacks(transformer.name),\n",
    ")"
   ]
  },
  {
   "cell_type": "markdown",
   "metadata": {},
   "source": [
    "### **Visualize the Results**\n",
    "\n",
    "Load csv logs and plot."
   ]
  },
  {
   "cell_type": "code",
   "execution_count": null,
   "metadata": {},
   "outputs": [],
   "source": [
    "csv_logs = Path(f\"logs/csv/{model_name}.csv\")\n",
    "logs = pd.read_csv(csv_logs)"
   ]
  },
  {
   "cell_type": "code",
   "execution_count": null,
   "metadata": {},
   "outputs": [],
   "source": [
    "plt.figure(figsize = (8, 5), facecolor = \"white\")\n",
    "\n",
    "plt.subplot(1, 2, 1)\n",
    "plt.plot(logs.acc, label = \"acc\")\n",
    "plt.plot(logs.val_acc, label = \"val_acc\")\n",
    "\n",
    "plt.legend()\n",
    "plt.grid(True)\n",
    "\n",
    "plt.subplot(1, 2, 2)\n",
    "plt.plot(logs.loss, label = \"loss\")\n",
    "plt.plot(logs.val_loss, label = \"val_loss\")\n",
    "\n",
    "plt.legend()\n",
    "plt.grid(True)\n",
    "\n",
    "plt.tight_layout()\n",
    "plt.show()"
   ]
  },
  {
   "cell_type": "code",
   "execution_count": null,
   "metadata": {},
   "outputs": [],
   "source": []
  },
  {
   "cell_type": "code",
   "execution_count": null,
   "metadata": {},
   "outputs": [],
   "source": []
  },
  {
   "cell_type": "markdown",
   "metadata": {
    "id": "CLGTZfFMNox3"
   },
   "source": [
    "## **Simple Transformer**"
   ]
  },
  {
   "cell_type": "code",
   "execution_count": null,
   "metadata": {
    "colab": {
     "base_uri": "https://localhost:8080/"
    },
    "executionInfo": {
     "elapsed": 5879,
     "status": "ok",
     "timestamp": 1617075608896,
     "user": {
      "displayName": "Myung-Gyo Oh",
      "photoUrl": "",
      "userId": "01040732127983096879"
     },
     "user_tz": -540
    },
    "id": "bOKg4s_3NouX",
    "outputId": "9f65bf52-03de-47b9-d0f7-486edb50c62c"
   },
   "outputs": [],
   "source": [
    "small_transformer = transformer(\n",
    "    vocab_size = 9000,\n",
    "    num_layers = 4,\n",
    "    dff = 512,\n",
    "    d_model = 128,\n",
    "    num_heads = 4,\n",
    "    dropout = 0.3,\n",
    "    name = \"small_transformer\")\n",
    "\n",
    "small_transformer.summary()"
   ]
  },
  {
   "cell_type": "code",
   "execution_count": null,
   "metadata": {
    "colab": {
     "base_uri": "https://localhost:8080/",
     "height": 335
    },
    "executionInfo": {
     "elapsed": 1833,
     "status": "ok",
     "timestamp": 1617075614555,
     "user": {
      "displayName": "Myung-Gyo Oh",
      "photoUrl": "",
      "userId": "01040732127983096879"
     },
     "user_tz": -540
    },
    "id": "4kcOK6uuLiGa",
    "outputId": "25a46c1d-f20c-4fa5-a69c-0eb4cd077eaf"
   },
   "outputs": [],
   "source": [
    "tf.keras.utils.plot_model(small_transformer, to_file = \"small_transformer.png\", show_shapes = True)"
   ]
  },
  {
   "cell_type": "markdown",
   "metadata": {
    "id": "CqpqCP8kObRJ"
   },
   "source": [
    "## **Loss Function**"
   ]
  },
  {
   "cell_type": "code",
   "execution_count": null,
   "metadata": {
    "id": "m_V3DEd3ObOh"
   },
   "outputs": [],
   "source": [
    "def loss_function(y_true, y_pred):\n",
    "    y_true = tf.reshape(y_true, shape = (-1, MAX_LENGTH - 1))\n",
    "\n",
    "    loss = tf.keras.losses.SparseCategoricalCrossentropy(\n",
    "        from_logits = True, reduction = \"none\")(y_true, y_pred)\n",
    "\n",
    "    mask = tf.cast(tf.not_equal(y_true, 0), tf.float32)\n",
    "    loss = tf.multiply(loss, mask)\n",
    "\n",
    "    return tf.reduce_mean(loss)"
   ]
  },
  {
   "cell_type": "code",
   "execution_count": null,
   "metadata": {
    "id": "uNtIXTgAA8MQ"
   },
   "outputs": [],
   "source": []
  }
 ],
 "metadata": {
  "colab": {
   "authorship_tag": "ABX9TyM4P3vQU05wtbysQ7zcUgrw",
   "collapsed_sections": [],
   "name": "[021] Attention Is All You Need.ipynb",
   "provenance": []
  },
  "kernelspec": {
   "display_name": "Python 3",
   "language": "python",
   "name": "python3"
  },
  "language_info": {
   "codemirror_mode": {
    "name": "ipython",
    "version": 3
   },
   "file_extension": ".py",
   "mimetype": "text/x-python",
   "name": "python",
   "nbconvert_exporter": "python",
   "pygments_lexer": "ipython3",
   "version": "3.6.9"
  }
 },
 "nbformat": 4,
 "nbformat_minor": 4
}
